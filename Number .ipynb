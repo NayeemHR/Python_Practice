{
 "cells": [
  {
   "cell_type": "code",
   "execution_count": 36,
   "id": "de8ed462",
   "metadata": {},
   "outputs": [
    {
     "name": "stdout",
     "output_type": "stream",
     "text": [
      "Input an integer number: 13\n",
      "0\n",
      "It is an ugly number.\n",
      "\n"
     ]
    }
   ],
   "source": [
    "#01. check whether a given number is an ugly number or not.\n",
    "x=0\n",
    "num = int(input('Input an integer number: '))\n",
    "if num<=0:\n",
    "    print(\"Input a correct number.\")\n",
    "\n",
    "for i in [2, 3, 5]:\n",
    "    while num % i == 0:\n",
    "        num /= i \n",
    "        x = 1;  \n",
    "        break;\n",
    "if (x==0):\n",
    "    print(\"It is an ugly number.\\n\")\n",
    "else:\n",
    "    print(\"It is not an ugly number.\\n\")"
   ]
  },
  {
   "cell_type": "code",
   "execution_count": 39,
   "id": "513b7a7c",
   "metadata": {},
   "outputs": [
    {
     "name": "stdout",
     "output_type": "stream",
     "text": [
      "Input an integer number: 13\n",
      "13 is not Abundant Number\n"
     ]
    }
   ],
   "source": [
    "# 02.check whether a given number is Abundant or not\n",
    "n = int(input('Input an integer number: '))\n",
    "\n",
    "sum=1 # 1 can divide any number \n",
    "\n",
    "for i in range(2,n):\n",
    "    if(n%i==0):    #if number is divisible by i add the number \n",
    "        sum=sum+i\n",
    "\n",
    "if(sum>n):\n",
    "    print(n,'is Abundant Number')\n",
    "\n",
    "else:\n",
    "    print(n,'is not Abundant Number')"
   ]
  },
  {
   "cell_type": "code",
   "execution_count": 57,
   "id": "3718bf4c",
   "metadata": {},
   "outputs": [
    {
     "name": "stdout",
     "output_type": "stream",
     "text": [
      "[0, 12, 18, 20, 24, 30, 36, 40, 42, 48, 54, 56, 60, 66, 70, 72, 78, 80, 84, 88, 90, 96]\n"
     ]
    }
   ],
   "source": [
    "#3. find the Abundant numbers (integers) between 1 to 1000\n",
    "list = []\n",
    "for j in range(100):\n",
    "    n=j\n",
    "    sum=1 # 1 can divide any number \n",
    "\n",
    "    for i in range(2,n):\n",
    "        if(n%i==0):    #if number is divisible by i add the number \n",
    "            sum=sum+i\n",
    "\n",
    "    if(sum>n):\n",
    "        list.append(n)\n",
    "print(list)"
   ]
  },
  {
   "cell_type": "code",
   "execution_count": 56,
   "id": "38f51adc",
   "metadata": {},
   "outputs": [
    {
     "name": "stdout",
     "output_type": "stream",
     "text": [
      "Input an integer number: 15\n",
      "15 is Deficient Number\n"
     ]
    }
   ],
   "source": [
    "# 04. check whether a given number is Deficient or not\n",
    "n = int(input('Input an integer number: '))\n",
    "\n",
    "sum=1 # 1 can divide any number \n",
    "\n",
    "for i in range(2,n):\n",
    "    if(n%i==0):    #if number is divisible by i add the number \n",
    "        sum=sum+i\n",
    "\n",
    "if(sum>n):\n",
    "    print(n,'is not Deficient Number')\n",
    "\n",
    "else:\n",
    "    print(n,'is Deficient Number')"
   ]
  },
  {
   "cell_type": "code",
   "execution_count": 59,
   "id": "d3eb0496",
   "metadata": {},
   "outputs": [
    {
     "name": "stdout",
     "output_type": "stream",
     "text": [
      "[2, 3, 4, 5, 7, 8, 9, 10, 11, 13, 14, 15, 16, 17, 19, 21, 22, 23, 25, 26, 27, 29, 31, 32, 33, 34, 35, 37, 38, 39, 41, 43, 44, 45, 46, 47, 49, 50, 51, 52, 53, 55, 57, 58, 59, 61, 62, 63, 64, 65, 67, 68, 69, 71, 73, 74, 75, 76, 77, 79, 81, 82, 83, 85, 86, 87, 89, 91, 92, 93, 94, 95, 97, 98, 99]\n"
     ]
    }
   ],
   "source": [
    "# 05. find the Deficient numbers (integers) between 1 to 100\n",
    "list = []\n",
    "for j in range(100):\n",
    "    n=j\n",
    "    sum=1 # 1 can divide any number \n",
    "\n",
    "    for i in range(2,n):\n",
    "        if(n%i==0):    #if number is divisible by i add the number \n",
    "            sum=sum+i\n",
    "\n",
    "    if(sum<n):\n",
    "        list.append(n)\n",
    "print(list)"
   ]
  },
  {
   "cell_type": "code",
   "execution_count": 25,
   "id": "96d0f089",
   "metadata": {},
   "outputs": [
    {
     "name": "stdout",
     "output_type": "stream",
     "text": [
      "Input a number: 60\n",
      "60 is not a Kaprekar number.\n"
     ]
    }
   ],
   "source": [
    "# 06. check whether a given number is a Kaprekar number or not\n",
    "i=int(input('Input a number: '))\n",
    "\n",
    "sqr = i ** 2  \n",
    "digits = str(sqr)  \n",
    "result = 0\n",
    "length = len(digits)  \n",
    "for x in range(1, length):  \n",
    "    left = int(\"\".join(digits[:x]))  \n",
    "    right = int(\"\".join(digits[x:]))  \n",
    "    if (left + right) == i:  \n",
    "        result = 1\n",
    "\n",
    "if(result == 1):\n",
    "    print(\"%s is a Kaprekar number.\"%(str(i)));\n",
    "else:\n",
    "    print(\"%s is not a Kaprekar number.\"%(str(i)));\n"
   ]
  },
  {
   "cell_type": "code",
   "execution_count": 42,
   "id": "d60ee1c2",
   "metadata": {},
   "outputs": [
    {
     "name": "stdout",
     "output_type": "stream",
     "text": [
      "9  10  45  55  99  "
     ]
    }
   ],
   "source": [
    "# 07. generate and show all Kaprekar numbers less than 100\n",
    "start = 1\n",
    "end = 100\n",
    "for i in range(start, end ):  \n",
    "    sqr = i ** 2  \n",
    "    digits = str(sqr)  \n",
    "\n",
    "    length = len(digits)  \n",
    "    for x in range(1, length):  \n",
    "        left = int(\"\".join(digits[:x]))  \n",
    "        right = int(\"\".join(digits[x:]))  \n",
    "        if (left + right) == i:  \n",
    "            print(\"%s \"%(str(i)), end = \" \");  \n",
    "      \n",
    "    "
   ]
  },
  {
   "cell_type": "code",
   "execution_count": 83,
   "id": "2d803973",
   "metadata": {},
   "outputs": [
    {
     "name": "stdout",
     "output_type": "stream",
     "text": [
      "Input a Number: 187\n",
      "187 is a lychrel number and becomes palindromic after 10 iteration\n"
     ]
    }
   ],
   "source": [
    "# 08. Check whether a number is Lychrel number or not.\n",
    "\n",
    "n = int(input(\"Input a Number: \"))\n",
    "\n",
    "def reverse(num):\n",
    "    rev = 0\n",
    "    while(num > 0):\n",
    "        rem = num %10\n",
    "        rev = (rev *10) + rem\n",
    "        num = num //10\n",
    "    return rev\n",
    "\n",
    "def check_palindrome(num):\n",
    "    temp = num\n",
    "    rev = 0\n",
    "\n",
    "    while temp != 0:\n",
    "        rev = (rev * 10) + (temp % 10)\n",
    "        temp = temp // 10\n",
    "\n",
    "    if num == rev:\n",
    "        return False\n",
    "    else:\n",
    "        return True\n",
    "\n",
    "def lychrel_num(num):\n",
    "    i = 0\n",
    "    \n",
    "    while check_palindrome(num):\n",
    "        num = num + reverse(num)\n",
    "        i =i+1\n",
    "        if i == 10:\n",
    "            type = str(num) + \" is not a lychrel number\"\n",
    "            break\n",
    "    type = str(n) + \" is a lychrel number and becomes palindromic after \"+ str(i) + \" iteration\"\n",
    "    return type\n",
    "\n",
    "\n",
    "print(lychrel_num(n))"
   ]
  },
  {
   "cell_type": "code",
   "execution_count": 85,
   "id": "17ad3808",
   "metadata": {},
   "outputs": [
    {
     "name": "stdout",
     "output_type": "stream",
     "text": [
      "(10, 18211171, '18211171 is not a lychrel number')\n"
     ]
    }
   ],
   "source": [
    "# 09. display and count the number of Lychrel numbers within a specific range(from 1 to a specific upper limit).\n",
    "# flag = 0\n",
    "# start = 100\n",
    "# end = 1000\n",
    "\n",
    "def reverse(num):\n",
    "    rev = 0\n",
    "    while(num > 0):\n",
    "        rem = num %10\n",
    "        rev = (rev *10) + rem\n",
    "        num = num //10\n",
    "    return rev\n",
    "\n",
    "def check_palindrome(num):\n",
    "    temp = num\n",
    "    rev = 0\n",
    "\n",
    "    while temp != 0:\n",
    "        rev = (rev * 10) + (temp % 10)\n",
    "        temp = temp // 10\n",
    "\n",
    "    if num == rev:\n",
    "        return False\n",
    "    else:\n",
    "        return True\n",
    "\n",
    "def lychrel_num(num):\n",
    "    i = 0\n",
    "    type = str(num) + \" is a lychrel number\"\n",
    "    while check_palindrome(num):\n",
    "        num = num + reverse(num)\n",
    "        i =i+1\n",
    "        if i == 10:\n",
    "            type = str(num) + \" is not a lychrel number\"\n",
    "            break\n",
    "#     if(i > 0 and i < 13 ):\n",
    "    return i, num, type\n",
    "\n",
    "print(lychrel_num(196))\n"
   ]
  },
  {
   "cell_type": "code",
   "execution_count": null,
   "id": "2d990cd5",
   "metadata": {},
   "outputs": [],
   "source": []
  }
 ],
 "metadata": {
  "kernelspec": {
   "display_name": "Python 3 (ipykernel)",
   "language": "python",
   "name": "python3"
  },
  "language_info": {
   "codemirror_mode": {
    "name": "ipython",
    "version": 3
   },
   "file_extension": ".py",
   "mimetype": "text/x-python",
   "name": "python",
   "nbconvert_exporter": "python",
   "pygments_lexer": "ipython3",
   "version": "3.9.12"
  }
 },
 "nbformat": 4,
 "nbformat_minor": 5
}
