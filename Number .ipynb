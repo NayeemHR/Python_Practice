{
 "cells": [
  {
   "cell_type": "code",
   "execution_count": 36,
   "id": "de8ed462",
   "metadata": {},
   "outputs": [
    {
     "name": "stdout",
     "output_type": "stream",
     "text": [
      "Input an integer number: 13\n",
      "0\n",
      "It is an ugly number.\n",
      "\n"
     ]
    }
   ],
   "source": [
    "#01. check whether a given number is an ugly number or not.\n",
    "x=0\n",
    "num = int(input('Input an integer number: '))\n",
    "if num<=0:\n",
    "    print(\"Input a correct number.\")\n",
    "\n",
    "for i in [2, 3, 5]:\n",
    "    while num % i == 0:\n",
    "        num /= i \n",
    "        x = 1;  \n",
    "        break;\n",
    "if (x==0):\n",
    "    print(\"It is an ugly number.\\n\")\n",
    "else:\n",
    "    print(\"It is not an ugly number.\\n\")"
   ]
  },
  {
   "cell_type": "code",
   "execution_count": 39,
   "id": "513b7a7c",
   "metadata": {},
   "outputs": [
    {
     "name": "stdout",
     "output_type": "stream",
     "text": [
      "Input an integer number: 13\n",
      "13 is not Abundant Number\n"
     ]
    }
   ],
   "source": [
    "# 02.check whether a given number is Abundant or not\n",
    "n = int(input('Input an integer number: '))\n",
    "\n",
    "sum=1 # 1 can divide any number \n",
    "\n",
    "for i in range(2,n):\n",
    "    if(n%i==0):    #if number is divisible by i add the number \n",
    "        sum=sum+i\n",
    "\n",
    "if(sum>n):\n",
    "    print(n,'is Abundant Number')\n",
    "\n",
    "else:\n",
    "    print(n,'is not Abundant Number')"
   ]
  },
  {
   "cell_type": "code",
   "execution_count": 57,
   "id": "3718bf4c",
   "metadata": {},
   "outputs": [
    {
     "name": "stdout",
     "output_type": "stream",
     "text": [
      "[0, 12, 18, 20, 24, 30, 36, 40, 42, 48, 54, 56, 60, 66, 70, 72, 78, 80, 84, 88, 90, 96]\n"
     ]
    }
   ],
   "source": [
    "#3. find the Abundant numbers (integers) between 1 to 1000\n",
    "list = []\n",
    "for j in range(100):\n",
    "    n=j\n",
    "    sum=1 # 1 can divide any number \n",
    "\n",
    "    for i in range(2,n):\n",
    "        if(n%i==0):    #if number is divisible by i add the number \n",
    "            sum=sum+i\n",
    "\n",
    "    if(sum>n):\n",
    "        list.append(n)\n",
    "print(list)"
   ]
  },
  {
   "cell_type": "code",
   "execution_count": 56,
   "id": "38f51adc",
   "metadata": {},
   "outputs": [
    {
     "name": "stdout",
     "output_type": "stream",
     "text": [
      "Input an integer number: 15\n",
      "15 is Deficient Number\n"
     ]
    }
   ],
   "source": [
    "# 04. check whether a given number is Deficient or not\n",
    "n = int(input('Input an integer number: '))\n",
    "\n",
    "sum=1 # 1 can divide any number \n",
    "\n",
    "for i in range(2,n):\n",
    "    if(n%i==0):    #if number is divisible by i add the number \n",
    "        sum=sum+i\n",
    "\n",
    "if(sum>n):\n",
    "    print(n,'is not Deficient Number')\n",
    "\n",
    "else:\n",
    "    print(n,'is Deficient Number')"
   ]
  },
  {
   "cell_type": "code",
   "execution_count": 59,
   "id": "d3eb0496",
   "metadata": {},
   "outputs": [
    {
     "name": "stdout",
     "output_type": "stream",
     "text": [
      "[2, 3, 4, 5, 7, 8, 9, 10, 11, 13, 14, 15, 16, 17, 19, 21, 22, 23, 25, 26, 27, 29, 31, 32, 33, 34, 35, 37, 38, 39, 41, 43, 44, 45, 46, 47, 49, 50, 51, 52, 53, 55, 57, 58, 59, 61, 62, 63, 64, 65, 67, 68, 69, 71, 73, 74, 75, 76, 77, 79, 81, 82, 83, 85, 86, 87, 89, 91, 92, 93, 94, 95, 97, 98, 99]\n"
     ]
    }
   ],
   "source": [
    "# 05. find the Deficient numbers (integers) between 1 to 100\n",
    "list = []\n",
    "for j in range(100):\n",
    "    n=j\n",
    "    sum=1 # 1 can divide any number \n",
    "\n",
    "    for i in range(2,n):\n",
    "        if(n%i==0):    #if number is divisible by i add the number \n",
    "            sum=sum+i\n",
    "\n",
    "    if(sum<n):\n",
    "        list.append(n)\n",
    "print(list)"
   ]
  },
  {
   "cell_type": "code",
   "execution_count": null,
   "id": "96d0f089",
   "metadata": {},
   "outputs": [],
   "source": []
  }
 ],
 "metadata": {
  "kernelspec": {
   "display_name": "Python 3 (ipykernel)",
   "language": "python",
   "name": "python3"
  },
  "language_info": {
   "codemirror_mode": {
    "name": "ipython",
    "version": 3
   },
   "file_extension": ".py",
   "mimetype": "text/x-python",
   "name": "python",
   "nbconvert_exporter": "python",
   "pygments_lexer": "ipython3",
   "version": "3.9.12"
  }
 },
 "nbformat": 4,
 "nbformat_minor": 5
}
