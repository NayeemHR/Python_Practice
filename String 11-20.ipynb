{
 "cells": [
  {
   "cell_type": "code",
   "execution_count": 38,
   "id": "bb624953",
   "metadata": {},
   "outputs": [
    {
     "name": "stdout",
     "output_type": "stream",
     "text": [
      "Sorted Array in Ascending Order:\n",
      "[-9, -2, 0, 11, 45]\n"
     ]
    }
   ],
   "source": [
    "\n",
    "def bubbleSort(array):\n",
    "    \n",
    "  # loop to access each array element\n",
    "  for i in range(len(array)):\n",
    "\n",
    "    # loop to compare array elements\n",
    "    for j in range(0, len(array) - i - 1):\n",
    "\n",
    "      # compare two adjacent elements\n",
    "      # change > to < to sort in descending order\n",
    "      if array[j] > array[j + 1]:\n",
    "\n",
    "        # swapping elements if elements\n",
    "        # are not in the intended order\n",
    "        temp = array[j]\n",
    "        array[j] = array[j+1]\n",
    "        array[j+1] = temp\n",
    "\n",
    "\n",
    "data = [-2, 45, 0, 11, -9]\n",
    "\n",
    "bubbleSort(data)\n",
    "\n",
    "print('Sorted Array in Ascending Order:')\n",
    "print(data)"
   ]
  },
  {
   "cell_type": "code",
   "execution_count": 47,
   "id": "513bf59a",
   "metadata": {},
   "outputs": [
    {
     "data": {
      "text/plain": [
       "['one', 'two', 'zero']"
      ]
     },
     "execution_count": 47,
     "metadata": {},
     "output_type": "execute_result"
    }
   ],
   "source": [
    "string = ['zero','one','two']\n",
    "\n",
    "string.sort()\n",
    "\n",
    "string"
   ]
  },
  {
   "cell_type": "code",
   "execution_count": 83,
   "id": "ca258edb",
   "metadata": {},
   "outputs": [
    {
     "name": "stdout",
     "output_type": "stream",
     "text": [
      "Input the string : The substring retrieve from the string is\n",
      "Input the position to start extraction :8\n",
      "Input the length of substring : 4\n",
      "The substring retrieve from the string is : trin\n"
     ]
    }
   ],
   "source": [
    "# 13. extract a substring from a given string\n",
    "\n",
    "string = input('Input the string : ')\n",
    "start = int(input('Input the position to start extraction :'))\n",
    "end = int(input('Input the length of substring : '))\n",
    "sub = end+start\n",
    "\n",
    "print( \"The substring retrieve from the string is :\", string[start:sub])\n"
   ]
  },
  {
   "cell_type": "code",
   "execution_count": 87,
   "id": "0550b4ef",
   "metadata": {},
   "outputs": [
    {
     "name": "stdout",
     "output_type": "stream",
     "text": [
      "Input the string : i justed join to team\n",
      "Search: content\n",
      "No! it is not present\n"
     ]
    }
   ],
   "source": [
    "# 14. a given substring is present in the given string\n",
    "MyString1 = input(\"Input the string : \")\n",
    "search = input(\"Search: \")\n",
    " \n",
    "if search in MyString1:\n",
    "    print(\"Yes! it is present in the string\")\n",
    "else:\n",
    "    print(\"No! it is not present\")\n"
   ]
  },
  {
   "cell_type": "code",
   "execution_count": 88,
   "id": "f79589f1",
   "metadata": {},
   "outputs": [
    {
     "name": "stdout",
     "output_type": "stream",
     "text": [
      "hello WORLD\n",
      "HELLO world\n"
     ]
    }
   ],
   "source": [
    "# 15. read a sentence and replace lowercase characters by uppercase and vice-versa\n",
    "s=input()\n",
    "new_str=\"\"\n",
    "for i in range (len(s)):\n",
    "    if s[i].isupper():\n",
    "        new_str+=s[i].lower()\n",
    "    elif s[i].islower():\n",
    "        new_str+=s[i].upper()\n",
    "    else:\n",
    "        new_str+=s[i]\n",
    "print(new_str)"
   ]
  },
  {
   "cell_type": "code",
   "execution_count": 99,
   "id": "32cdb1b3",
   "metadata": {},
   "outputs": [
    {
     "name": "stdout",
     "output_type": "stream",
     "text": [
      "Input the string : help the help\n",
      "Search: help\n",
      "Number of occurrence of \" help \" : 2\n"
     ]
    }
   ],
   "source": [
    "# 16.find the number of times a given word 'the' appears in the given string\n",
    "MyString1 = input(\"Input the string : \")\n",
    "search = input(\"Search: \")\n",
    "print('Number of occurrence of \"',search,'\" :', MyString1.count(search))\n"
   ]
  },
  {
   "cell_type": "code",
   "execution_count": 2,
   "id": "5b620817",
   "metadata": {},
   "outputs": [
    {
     "name": "stdout",
     "output_type": "stream",
     "text": [
      "aabadadb#abab\n"
     ]
    }
   ],
   "source": [
    "# remove number \n",
    "string=\"aabadad8b#abab333212\"\n",
    "int_list = []\n",
    "for x in range(0, 10, 1):\n",
    "    int_list.append(str(x))\n",
    "\n",
    "for ch in int_list:\n",
    "    if ch in string:\n",
    "        string=string.replace(ch,\"\")\n",
    "print(string)\n"
   ]
  },
  {
   "cell_type": "code",
   "execution_count": 1,
   "id": "61d3b338",
   "metadata": {},
   "outputs": [
    {
     "name": "stdout",
     "output_type": "stream",
     "text": [
      "aZabadadbaAFPbab\n"
     ]
    }
   ],
   "source": [
    "# 17. remove characters in String Except Alphabets\n",
    "string=\"aZabada#d8b@aAFPbab333212\"\n",
    "newstr=''\n",
    "for x in range(len(string)):\n",
    "    ch = ord(string[x])\n",
    "    if ch > 64 and ch < 91 or ch>96 and ch < 123:\n",
    "        newstr += string[x]\n",
    "print(newstr)"
   ]
  },
  {
   "cell_type": "code",
   "execution_count": 115,
   "id": "96d553a9",
   "metadata": {},
   "outputs": [
    {
     "name": "stdout",
     "output_type": "stream",
     "text": [
      "G\n",
      "e\n",
      "e\n",
      "k\n",
      "hello k\n",
      "s\n",
      "f\n",
      "o\n",
      "r\n",
      "G\n",
      "e\n",
      "e\n",
      "k\n",
      "hello k\n",
      "s\n"
     ]
    }
   ],
   "source": [
    "\n"
   ]
  },
  {
   "cell_type": "code",
   "execution_count": 149,
   "id": "a8bb76f5",
   "metadata": {},
   "outputs": [
    {
     "name": "stdout",
     "output_type": "stream",
     "text": [
      "Concatenating strings in Python is easy!\n"
     ]
    }
   ],
   "source": [
    "# 19. Concatenate Two Strings Manually\n",
    "string1 = \"Concatenating\"\n",
    "string2 = \"strings\"\n",
    "string3 = \"in Python\"\n",
    "string4 = \"is easy!\"\n",
    "\n",
    "print(string1 +' '+ string2 +' '+ string3 +' '+ string4)"
   ]
  },
  {
   "cell_type": "code",
   "execution_count": 150,
   "id": "f4456ebf",
   "metadata": {},
   "outputs": [
    {
     "name": "stdout",
     "output_type": "stream",
     "text": [
      "Original Strings:\n",
      " Write a Java program to sort an array of given integers using Quick sort Algorithm.\n",
      "Smallest word: a\n",
      "Largest word: Algorithm.\n"
     ]
    }
   ],
   "source": [
    "# 20. find the largest and smallest word in a string\n",
    "def smallest_largest_words(str1):\n",
    "    word = \"\";\n",
    "    all_words = [];\n",
    "    str1 = str1 + \" \";\n",
    "    for i in range(0, len(str1)):\n",
    "        if(str1[i] != ' '):\n",
    "            word = word + str1[i];  \n",
    "        else:\n",
    "            all_words.append(word);  \n",
    "            word = \"\";  \n",
    "          \n",
    "    small = large = all_words[0];  \n",
    "   \n",
    "#Find smallest and largest word in the str1  \n",
    "    for k in range(0, len(all_words)):\n",
    "        if(len(small) > len(all_words[k])):\n",
    "            small = all_words[k];\n",
    "        if(len(large) < len(all_words[k])):\n",
    "            large = all_words[k];\n",
    "    return small,large;\n",
    "\n",
    "str1 = \"Write a Java program to sort an array of given integers using Quick sort Algorithm.\";  \n",
    "print(\"Original Strings:\\n\",str1)\n",
    "small, large = smallest_largest_words(str1)  \n",
    "print(\"Smallest word: \" + small);  \n",
    "print(\"Largest word: \" + large); \n"
   ]
  },
  {
   "cell_type": "code",
   "execution_count": null,
   "id": "9b99ade9",
   "metadata": {},
   "outputs": [],
   "source": []
  }
 ],
 "metadata": {
  "kernelspec": {
   "display_name": "Python 3 (ipykernel)",
   "language": "python",
   "name": "python3"
  },
  "language_info": {
   "codemirror_mode": {
    "name": "ipython",
    "version": 3
   },
   "file_extension": ".py",
   "mimetype": "text/x-python",
   "name": "python",
   "nbconvert_exporter": "python",
   "pygments_lexer": "ipython3",
   "version": "3.9.12"
  }
 },
 "nbformat": 4,
 "nbformat_minor": 5
}
