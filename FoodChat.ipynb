{
 "cells": [
  {
   "cell_type": "code",
   "execution_count": null,
   "id": "a12d66de",
   "metadata": {},
   "outputs": [
    {
     "name": "stdout",
     "output_type": "stream",
     "text": [
      "Welcome to FoodChat.\n",
      "Select your location.\n",
      "1.DHAKA\n",
      "2.RAJSHAHI\n",
      "3.KHULNA\n",
      "dhaka\n",
      "You selected your location DHAKA\n",
      "1.CURRY\n",
      "2.RICE\n"
     ]
    }
   ],
   "source": [
    "def select_location():\n",
    "    x = 0\n",
    "    for location in location_list:\n",
    "        x = x+1\n",
    "        print(x ,'.' ,location.upper(), sep=\"\")\n",
    "        \n",
    "    location_in = input('')\n",
    "    if location_in in location_list:\n",
    "        print('You selected your location',location_in.upper())\n",
    "        select_food()\n",
    "    else:\n",
    "        print('Please select from the given list.')\n",
    "        select_location()\n",
    "        \n",
    "def select_food():\n",
    "    x = 0\n",
    "    for food_type in food_types:\n",
    "        x = x+1\n",
    "        print(x ,'.' ,food_type.upper(), sep=\"\")\n",
    "    \n",
    "    food_type_in = input()\n",
    "\n",
    "print('Welcome to FoodChat.\\nSelect your location.')\n",
    "\n",
    "location_list = ['dhaka','rajshahi','khulna']\n",
    "food_types = ['Curry', 'Rice'] \n",
    "food_list = [[{'Beef Bhuna':'160'},{'Duck Bhuna':'135'}],[{'Plain Rice':'25'},{'Plain Polao':'65'}]]\n",
    "\n",
    "select_location()"
   ]
  },
  {
   "cell_type": "code",
   "execution_count": null,
   "id": "1861f2a6",
   "metadata": {},
   "outputs": [],
   "source": []
  }
 ],
 "metadata": {
  "kernelspec": {
   "display_name": "Python 3 (ipykernel)",
   "language": "python",
   "name": "python3"
  },
  "language_info": {
   "codemirror_mode": {
    "name": "ipython",
    "version": 3
   },
   "file_extension": ".py",
   "mimetype": "text/x-python",
   "name": "python",
   "nbconvert_exporter": "python",
   "pygments_lexer": "ipython3",
   "version": "3.9.12"
  }
 },
 "nbformat": 4,
 "nbformat_minor": 5
}
