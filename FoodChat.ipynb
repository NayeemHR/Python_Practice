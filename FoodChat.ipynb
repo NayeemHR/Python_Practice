{
 "cells": [
  {
   "cell_type": "code",
   "execution_count": 23,
   "id": "a12d66de",
   "metadata": {},
   "outputs": [
    {
     "name": "stdout",
     "output_type": "stream",
     "text": [
      "Welcome to FoodChat.\n",
      "Select your location.\n",
      "1.DHAKA\n",
      "2.RAJSHAHI\n",
      "3.KHULNA\n",
      "dhaka\n",
      "You selected your location DHAKA\n",
      "1.CURRY\n",
      "2.RICE\n",
      "Please input the food type.\n",
      "curry\n",
      "1.BEEF BHUNA - 160Tk\n",
      "2.DUCK BHUNA - 135Tk\n",
      "----------------------------------------------------\n",
      "Just input the serial number to add the food to cart\n",
      "----------------------------------------------------\n",
      "Goto Main menu,type '#'\n",
      "----------------------------------------------------\n",
      "To view cart,type '0'\n",
      "----------------------------------------------------\n",
      "1\n",
      "BEEF BHUNA Item Added Successfully\n",
      "----------------------------------------------------\n",
      "Just input the serial number to add the food to cart\n",
      "----------------------------------------------------\n",
      "Goto Main menu,type '#'\n",
      "----------------------------------------------------\n",
      "To view cart,type '0'\n",
      "----------------------------------------------------\n",
      "2\n",
      "DUCK BHUNA Item Added Successfully\n",
      "----------------------------------------------------\n",
      "Just input the serial number to add the food to cart\n",
      "----------------------------------------------------\n",
      "Goto Main menu,type '#'\n",
      "----------------------------------------------------\n",
      "To view cart,type '0'\n",
      "----------------------------------------------------\n",
      "0\n",
      "Item List:\n",
      "1.BEEF BHUNA\n",
      "2.DUCK BHUNA\n",
      "_______________\n",
      "Total Price: 295\n",
      "----------------------------------------------------\n",
      "Goto Main menu,type '#'\n",
      "----------------------------------------------------\n",
      "For Confirm type 'Yes'\n",
      "----------------------------------------------------\n",
      "yes\n",
      "Give your Phone Number: 154\n",
      "Give your Full Address: ds\n",
      "==========================\n",
      "Order Confirmed\n",
      "==========================\n",
      "\n",
      "\n",
      "==========================\n",
      "Order Details\n",
      "==========================\n",
      "Order No: 13112022155603\n",
      "Location: \n",
      "Phone No: \n",
      "Full Address: \n",
      "==========================\n",
      "Item List:\n",
      "1.BEEF BHUNA\n",
      "2.DUCK BHUNA\n",
      "_______________\n",
      "Total Price: 295\n",
      "==========================\n",
      "Thank you for ordering us.\n",
      "We will contact with you soon.\n"
     ]
    }
   ],
   "source": [
    "from datetime import datetime\n",
    "\n",
    "cust_phone = ''\n",
    "cust_address = ''\n",
    "selected_location = ''\n",
    "location_list = ['dhaka','rajshahi','khulna']\n",
    "food_types = ['curry', 'rice'] \n",
    "food_list = [[{'name':'beef bhuna','price':'160'},{'name':'duck bhuna','price':'135'}],[{'name':'plain rice','price':'25'},{'name':'plain polao', 'price':'65'}]]\n",
    "order_list = {\"Name\":[],\"Price\":[]};\n",
    "def foodChat():\n",
    "    print('Welcome to FoodChat.\\nSelect your location.')\n",
    "    select_location()\n",
    "    \n",
    "def select_location():\n",
    "    x = 0\n",
    "    for location in location_list:\n",
    "        x = x+1\n",
    "        print(x ,'.' ,location.upper(), sep=\"\")\n",
    "\n",
    "    location_in = input('').lower()\n",
    "   \n",
    "    if location_in in location_list: \n",
    "        print('You selected your location',location_in.upper())\n",
    "        select_food()\n",
    "    else:\n",
    "        print('Please select from the given list.')\n",
    "        select_location()\n",
    "        \n",
    "def select_food():\n",
    "    x = 0\n",
    "    for food_type in food_types:\n",
    "        x = x+1\n",
    "        print(x ,'.' ,food_type.upper(), sep=\"\")\n",
    "    print('Please input the food type.')\n",
    "    food_type = input().lower()\n",
    "    if food_type in food_types:\n",
    "        x = 0\n",
    "        food_index = food_types.index(food_type)\n",
    "        for food in food_list[food_index]:\n",
    "            x = x+1\n",
    "            print(x ,'.' ,food['name'].upper(),' - ',food['price'],'Tk', sep=\"\")\n",
    "        \n",
    "        add_order(food_index)\n",
    "    else:\n",
    "        print('Please select from the given list.')\n",
    "        select_food()\n",
    "        \n",
    "def add_order(food_index):\n",
    "        print(\"----------------------------------------------------\")\n",
    "        print(\"Just input the serial number to add the food to cart\")\n",
    "        print(\"----------------------------------------------------\")\n",
    "        print(\"Goto Main menu,type '#'\")\n",
    "        print(\"----------------------------------------------------\")\n",
    "        if(len(order_list)>0):\n",
    "            print(\"To view cart,type '0'\")\n",
    "            print(\"----------------------------------------------------\")\n",
    "        user_input = input()\n",
    "        flag = False\n",
    "        if user_input == '#':\n",
    "            select_food()\n",
    "        elif (int(user_input) <= len(food_list[food_index])) and (int(user_input) > 0):\n",
    "            index = int(user_input)-1\n",
    "            name = food_list[food_index][index]['name']\n",
    "            price = food_list[food_index][index]['price']\n",
    "            order_list[\"Name\"].append(name)\n",
    "            order_list[\"Price\"].append(price)\n",
    "            print(name.upper(),'Item Added Successfully')\n",
    "            add_order(food_index)\n",
    "        elif int(user_input)==0:\n",
    "            view_cart()\n",
    "            print(\"----------------------------------------------------\")\n",
    "            print(\"Goto Main menu,type '#'\")\n",
    "            print(\"----------------------------------------------------\")\n",
    "            print(\"For Confirm type 'Yes'\")\n",
    "            print(\"----------------------------------------------------\")\n",
    "            user_input = input().lower()\n",
    "\n",
    "            if user_input == '#':\n",
    "                select_food()\n",
    "            elif user_input == 'yes':\n",
    "                confirmation()\n",
    "            \n",
    "def view_cart():\n",
    "#     print(order_list)\n",
    "    x = 0\n",
    "    i = 0\n",
    "    total_price = 0\n",
    "    print('Item List:')\n",
    "    for i in range(len(order_list['Name'])):\n",
    "        x = x+1\n",
    "        nl = order_list['Name'][i]\n",
    "        new_price = int(order_list['Price'][i]) \n",
    "        total_price = total_price + new_price\n",
    "        print(x ,'.',nl.upper(), sep=\"\")\n",
    "        i = i+1\n",
    "    print('_______________')\n",
    "    print(\"Total Price:\", total_price)\n",
    "\n",
    "        \n",
    "def confirmation():\n",
    "    phone = input(\"Give your Phone Number: \")\n",
    "    address = input(\"Give your Full Address: \")\n",
    "    print(\"==========================\")\n",
    "    print(\"Order Confirmed\")\n",
    "    print(\"==========================\\n\\n\")\n",
    "    order_details()\n",
    "\n",
    "\n",
    "def order_details():\n",
    "    now = datetime.now()\n",
    "    dt_string = now.strftime(\"%d%m%Y%H%M%S\")\n",
    "    order_no = dt_string\n",
    "    print(\"==========================\")\n",
    "    print(\"Order Details\")\n",
    "    print(\"==========================\")\n",
    "    print(\"Order No:\", order_no)\n",
    "    print(\"Location:\", selected_location)\n",
    "    print(\"Phone No:\", cust_phone)\n",
    "    print(\"Full Address:\", cust_address)\n",
    "    print(\"==========================\")\n",
    "    view_cart()\n",
    "    print(\"==========================\")\n",
    "    print(\"Thank you for ordering us.\\nWe will contact with you soon.\" )\n",
    "\n",
    "\n",
    "\n",
    "foodChat()\n"
   ]
  },
  {
   "cell_type": "markdown",
   "id": "87b274a4",
   "metadata": {},
   "source": []
  },
  {
   "cell_type": "code",
   "execution_count": 47,
   "id": "46041577",
   "metadata": {},
   "outputs": [
    {
     "name": "stdout",
     "output_type": "stream",
     "text": [
      "Item List:\n",
      "1.BEEF BHUNA\n",
      "2.BANANA\n",
      "_______________\n",
      "Total Price: 220\n"
     ]
    },
    {
     "data": {
      "text/plain": [
       "2"
      ]
     },
     "execution_count": 47,
     "metadata": {},
     "output_type": "execute_result"
    }
   ],
   "source": [
    "new_list = {'Name': ['beef bhuna','banana'], 'Price': ['160','60']}\n",
    "x = 0\n",
    "total_price = 0\n",
    "# print(new_list)\n",
    "print('Item List:')\n",
    "for i in range(len(new_list['Name'])):\n",
    "    x = x+1\n",
    "    nl = new_list['Name'][i]\n",
    "    new_price = int(new_list['Price'][i]) \n",
    "    total_price = total_price + new_price\n",
    "    print(x ,'.',nl.upper(), sep=\"\")\n",
    "print('_______________')\n",
    "print(\"Total Price:\", total_price)   \n",
    "len(new_list['Name'])"
   ]
  },
  {
   "cell_type": "code",
   "execution_count": 44,
   "id": "ecb6e888",
   "metadata": {},
   "outputs": [
    {
     "data": {
      "text/plain": [
       "<function __main__.two(data='hello')>"
      ]
     },
     "execution_count": 44,
     "metadata": {},
     "output_type": "execute_result"
    }
   ],
   "source": [
    "def one(data):\n",
    "    return 'hello'\n",
    "def two(data = one('data')):\n",
    "    print(data)\n",
    "two"
   ]
  },
  {
   "cell_type": "code",
   "execution_count": 97,
   "id": "5d98286b",
   "metadata": {},
   "outputs": [
    {
     "data": {
      "text/plain": [
       "'je'"
      ]
     },
     "execution_count": 97,
     "metadata": {},
     "output_type": "execute_result"
    }
   ],
   "source": [
    "def a():\n",
    "    sl_location = sl_location = 'jello'\n",
    "    return sl_location \n",
    "\n",
    "a()[:2]"
   ]
  },
  {
   "cell_type": "code",
   "execution_count": 49,
   "id": "0eb14d6f",
   "metadata": {
    "scrolled": true
   },
   "outputs": [
    {
     "data": {
      "text/plain": [
       "''"
      ]
     },
     "execution_count": 49,
     "metadata": {},
     "output_type": "execute_result"
    }
   ],
   "source": []
  },
  {
   "cell_type": "code",
   "execution_count": 19,
   "id": "c0465f20",
   "metadata": {},
   "outputs": [
    {
     "name": "stdout",
     "output_type": "stream",
     "text": [
      "==========================\n",
      "Order Details\n",
      "==========================\n",
      "Order No: 789284729734\n",
      "Location: Dhaka\n",
      "Phone No: 0175213568\n",
      "Full Address: H11, vatara dhaka.\n",
      "==========================\n",
      "Thank you for ordering us.\n",
      "We will contact with you soon.\n"
     ]
    }
   ],
   "source": []
  },
  {
   "cell_type": "code",
   "execution_count": null,
   "id": "0e2ca815",
   "metadata": {},
   "outputs": [],
   "source": []
  }
 ],
 "metadata": {
  "kernelspec": {
   "display_name": "Python 3 (ipykernel)",
   "language": "python",
   "name": "python3"
  },
  "language_info": {
   "codemirror_mode": {
    "name": "ipython",
    "version": 3
   },
   "file_extension": ".py",
   "mimetype": "text/x-python",
   "name": "python",
   "nbconvert_exporter": "python",
   "pygments_lexer": "ipython3",
   "version": "3.9.12"
  }
 },
 "nbformat": 4,
 "nbformat_minor": 5
}
