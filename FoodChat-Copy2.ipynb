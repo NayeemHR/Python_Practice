{
 "cells": [
  {
   "cell_type": "code",
   "execution_count": 41,
   "id": "a12d66de",
   "metadata": {},
   "outputs": [
    {
     "name": "stdout",
     "output_type": "stream",
     "text": [
      "Welcome to FoodChat.\n",
      "Select your location.\n",
      "1.DHAKA\n",
      "2.RAJSHAHI\n",
      "3.KHULNA\n",
      "dhaka\n",
      "You selected your location DHAKA\n",
      "1.CURRY\n",
      "2.RICE\n",
      "Please input the food type.\n",
      "rajshahi\n",
      "Please select from the given list.\n",
      "1.CURRY\n",
      "2.RICE\n",
      "Please input the food type.\n",
      "curry\n",
      "1.BEEF BHUNA - 160Tk\n",
      "2.DUCK BHUNA - 135Tk\n",
      "----------------------------------------------------\n",
      "Just input the serial number to add the food to cart\n",
      "----------------------------------------------------\n",
      "Goto Main menu,type '#'\n",
      "----------------------------------------------------\n",
      "1\n",
      "BEEF BHUNA Item Added Successfully\n",
      "----------------------------------------------------\n",
      "Just input the serial number to add the food to cart\n",
      "----------------------------------------------------\n",
      "Goto Main menu,type '#'\n",
      "----------------------------------------------------\n",
      "To view cart,type '0'\n",
      "----------------------------------------------------\n",
      "2\n",
      "DUCK BHUNA Item Added Successfully\n",
      "----------------------------------------------------\n",
      "Just input the serial number to add the food to cart\n",
      "----------------------------------------------------\n",
      "Goto Main menu,type '#'\n",
      "----------------------------------------------------\n",
      "To view cart,type '0'\n",
      "----------------------------------------------------\n",
      "0\n",
      "Item List:\n",
      "1.BEEF BHUNA\n",
      "2.DUCK BHUNA\n",
      "_______________\n",
      "Total Price: 295\n",
      "----------------------------------------------------\n",
      "Goto Main menu,type '#'\n",
      "----------------------------------------------------\n",
      "For Confirm type 'Yes'\n",
      "----------------------------------------------------\n",
      "1\n",
      "1\n",
      "For Confirm type 'Yes'\n",
      "----------------------------------------------------\n",
      "yes\n",
      "Give your Phone Number: 5454\n",
      "Give your Full Address: asada\n",
      "==========================\n",
      "Order Confirmed\n",
      "==========================\n",
      "\n",
      "\n",
      "==========================\n",
      "Order Details\n",
      "==========================\n",
      "Order No: 14112022231621\n",
      "Location: dhaka\n",
      "Phone No: 5454\n",
      "Full Address: asada\n",
      "==========================\n",
      "Item List:\n",
      "1.BEEF BHUNA\n",
      "2.DUCK BHUNA\n",
      "_______________\n",
      "Total Price: 295\n",
      "==========================\n",
      "Thank you for ordering us.\n",
      "We will contact with you soon.\n",
      "succesa 0\n"
     ]
    },
    {
     "ename": "IndexError",
     "evalue": "list index out of range",
     "output_type": "error",
     "traceback": [
      "\u001b[1;31m---------------------------------------------------------------------------\u001b[0m",
      "\u001b[1;31mIndexError\u001b[0m                                Traceback (most recent call last)",
      "Input \u001b[1;32mIn [41]\u001b[0m, in \u001b[0;36m<cell line: 170>\u001b[1;34m()\u001b[0m\n\u001b[0;32m    165\u001b[0m     \u001b[38;5;28mprint\u001b[39m(\u001b[38;5;124m\"\u001b[39m\u001b[38;5;124m==========================\u001b[39m\u001b[38;5;124m\"\u001b[39m)\n\u001b[0;32m    166\u001b[0m     \u001b[38;5;28mprint\u001b[39m(\u001b[38;5;124m\"\u001b[39m\u001b[38;5;124mThank you for ordering us.\u001b[39m\u001b[38;5;130;01m\\n\u001b[39;00m\u001b[38;5;124mWe will contact with you soon.\u001b[39m\u001b[38;5;124m\"\u001b[39m )\n\u001b[1;32m--> 170\u001b[0m \u001b[43mfoodChat\u001b[49m\u001b[43m(\u001b[49m\u001b[43m)\u001b[49m\n",
      "Input \u001b[1;32mIn [41]\u001b[0m, in \u001b[0;36mfoodChat\u001b[1;34m()\u001b[0m\n\u001b[0;32m     10\u001b[0m \u001b[38;5;28;01mdef\u001b[39;00m \u001b[38;5;21mfoodChat\u001b[39m():\n\u001b[0;32m     11\u001b[0m     \u001b[38;5;28mprint\u001b[39m(\u001b[38;5;124m'\u001b[39m\u001b[38;5;124mWelcome to FoodChat.\u001b[39m\u001b[38;5;130;01m\\n\u001b[39;00m\u001b[38;5;124mSelect your location.\u001b[39m\u001b[38;5;124m'\u001b[39m)\n\u001b[1;32m---> 12\u001b[0m     \u001b[43mselect_location\u001b[49m\u001b[43m(\u001b[49m\u001b[43m)\u001b[49m\n",
      "Input \u001b[1;32mIn [41]\u001b[0m, in \u001b[0;36mselect_location\u001b[1;34m()\u001b[0m\n\u001b[0;32m     22\u001b[0m \u001b[38;5;28;01mif\u001b[39;00m location_in \u001b[38;5;129;01min\u001b[39;00m location_list: \n\u001b[0;32m     23\u001b[0m     \u001b[38;5;28mprint\u001b[39m(\u001b[38;5;124m'\u001b[39m\u001b[38;5;124mYou selected your location\u001b[39m\u001b[38;5;124m'\u001b[39m,location_in\u001b[38;5;241m.\u001b[39mupper())\n\u001b[1;32m---> 24\u001b[0m     \u001b[43mselect_food\u001b[49m\u001b[43m(\u001b[49m\u001b[43mlocation_in\u001b[49m\u001b[43m)\u001b[49m\n\u001b[0;32m     25\u001b[0m \u001b[38;5;28;01melse\u001b[39;00m:\n\u001b[0;32m     26\u001b[0m     \u001b[38;5;28mprint\u001b[39m(\u001b[38;5;124m'\u001b[39m\u001b[38;5;124mPlease select from the given list.\u001b[39m\u001b[38;5;124m'\u001b[39m)\n",
      "Input \u001b[1;32mIn [41]\u001b[0m, in \u001b[0;36mselect_food\u001b[1;34m(location_in)\u001b[0m\n\u001b[0;32m     51\u001b[0m \u001b[38;5;28;01melse\u001b[39;00m:\n\u001b[0;32m     52\u001b[0m     \u001b[38;5;28mprint\u001b[39m(\u001b[38;5;124m'\u001b[39m\u001b[38;5;124mPlease select from the given list.\u001b[39m\u001b[38;5;124m'\u001b[39m)\n\u001b[1;32m---> 53\u001b[0m     \u001b[43mselect_food\u001b[49m\u001b[43m(\u001b[49m\u001b[43mlocation_in\u001b[49m\u001b[43m)\u001b[49m\n",
      "Input \u001b[1;32mIn [41]\u001b[0m, in \u001b[0;36mselect_food\u001b[1;34m(location_in)\u001b[0m\n\u001b[0;32m     43\u001b[0m         x \u001b[38;5;241m=\u001b[39m x\u001b[38;5;241m+\u001b[39m\u001b[38;5;241m1\u001b[39m\n\u001b[0;32m     44\u001b[0m         \u001b[38;5;28mprint\u001b[39m(x ,\u001b[38;5;124m'\u001b[39m\u001b[38;5;124m.\u001b[39m\u001b[38;5;124m'\u001b[39m ,food[\u001b[38;5;124m'\u001b[39m\u001b[38;5;124mname\u001b[39m\u001b[38;5;124m'\u001b[39m]\u001b[38;5;241m.\u001b[39mupper(),\u001b[38;5;124m'\u001b[39m\u001b[38;5;124m - \u001b[39m\u001b[38;5;124m'\u001b[39m,food[\u001b[38;5;124m'\u001b[39m\u001b[38;5;124mprice\u001b[39m\u001b[38;5;124m'\u001b[39m],\u001b[38;5;124m'\u001b[39m\u001b[38;5;124mTk\u001b[39m\u001b[38;5;124m'\u001b[39m, sep\u001b[38;5;241m=\u001b[39m\u001b[38;5;124m\"\u001b[39m\u001b[38;5;124m\"\u001b[39m)\n\u001b[1;32m---> 46\u001b[0m     \u001b[43madd_order\u001b[49m\u001b[43m(\u001b[49m\u001b[43mfood_index\u001b[49m\u001b[43m,\u001b[49m\u001b[43mlocation_in\u001b[49m\u001b[43m)\u001b[49m\n\u001b[0;32m     47\u001b[0m \u001b[38;5;28;01melif\u001b[39;00m food_type \u001b[38;5;241m==\u001b[39m \u001b[38;5;124m'\u001b[39m\u001b[38;5;124m0\u001b[39m\u001b[38;5;124m'\u001b[39m \u001b[38;5;129;01mand\u001b[39;00m \u001b[38;5;28mlen\u001b[39m(order_list[\u001b[38;5;124m'\u001b[39m\u001b[38;5;124mName\u001b[39m\u001b[38;5;124m'\u001b[39m])\u001b[38;5;241m>\u001b[39m\u001b[38;5;241m0\u001b[39m:\n\u001b[0;32m     49\u001b[0m     view_cart(confirmed)\n",
      "Input \u001b[1;32mIn [41]\u001b[0m, in \u001b[0;36madd_order\u001b[1;34m(food_index, location_in)\u001b[0m\n\u001b[0;32m     78\u001b[0m     order_list[\u001b[38;5;124m\"\u001b[39m\u001b[38;5;124mPrice\u001b[39m\u001b[38;5;124m\"\u001b[39m]\u001b[38;5;241m.\u001b[39mappend(price)\n\u001b[0;32m     79\u001b[0m     \u001b[38;5;28mprint\u001b[39m(name\u001b[38;5;241m.\u001b[39mupper(),\u001b[38;5;124m'\u001b[39m\u001b[38;5;124mItem Added Successfully\u001b[39m\u001b[38;5;124m'\u001b[39m)\n\u001b[1;32m---> 80\u001b[0m     \u001b[43madd_order\u001b[49m\u001b[43m(\u001b[49m\u001b[43mfood_index\u001b[49m\u001b[43m,\u001b[49m\u001b[43mlocation_in\u001b[49m\u001b[43m)\u001b[49m\n\u001b[0;32m     81\u001b[0m \u001b[38;5;28;01melif\u001b[39;00m \u001b[38;5;28mint\u001b[39m(user_input)\u001b[38;5;241m==\u001b[39m\u001b[38;5;241m0\u001b[39m:\n\u001b[0;32m     82\u001b[0m     confirmed \u001b[38;5;241m=\u001b[39m \u001b[38;5;28;01mFalse\u001b[39;00m\n",
      "Input \u001b[1;32mIn [41]\u001b[0m, in \u001b[0;36madd_order\u001b[1;34m(food_index, location_in)\u001b[0m\n\u001b[0;32m     78\u001b[0m     order_list[\u001b[38;5;124m\"\u001b[39m\u001b[38;5;124mPrice\u001b[39m\u001b[38;5;124m\"\u001b[39m]\u001b[38;5;241m.\u001b[39mappend(price)\n\u001b[0;32m     79\u001b[0m     \u001b[38;5;28mprint\u001b[39m(name\u001b[38;5;241m.\u001b[39mupper(),\u001b[38;5;124m'\u001b[39m\u001b[38;5;124mItem Added Successfully\u001b[39m\u001b[38;5;124m'\u001b[39m)\n\u001b[1;32m---> 80\u001b[0m     \u001b[43madd_order\u001b[49m\u001b[43m(\u001b[49m\u001b[43mfood_index\u001b[49m\u001b[43m,\u001b[49m\u001b[43mlocation_in\u001b[49m\u001b[43m)\u001b[49m\n\u001b[0;32m     81\u001b[0m \u001b[38;5;28;01melif\u001b[39;00m \u001b[38;5;28mint\u001b[39m(user_input)\u001b[38;5;241m==\u001b[39m\u001b[38;5;241m0\u001b[39m:\n\u001b[0;32m     82\u001b[0m     confirmed \u001b[38;5;241m=\u001b[39m \u001b[38;5;28;01mFalse\u001b[39;00m\n",
      "Input \u001b[1;32mIn [41]\u001b[0m, in \u001b[0;36madd_order\u001b[1;34m(food_index, location_in)\u001b[0m\n\u001b[0;32m     85\u001b[0m     \u001b[38;5;28mprint\u001b[39m(\u001b[38;5;124m\"\u001b[39m\u001b[38;5;124mGoto Main menu,type \u001b[39m\u001b[38;5;124m'\u001b[39m\u001b[38;5;124m#\u001b[39m\u001b[38;5;124m'\u001b[39m\u001b[38;5;124m\"\u001b[39m)\n\u001b[0;32m     86\u001b[0m     \u001b[38;5;28mprint\u001b[39m(\u001b[38;5;124m\"\u001b[39m\u001b[38;5;124m----------------------------------------------------\u001b[39m\u001b[38;5;124m\"\u001b[39m)\n\u001b[1;32m---> 87\u001b[0m     \u001b[43mconfirmation_message\u001b[49m\u001b[43m(\u001b[49m\u001b[43mlocation_in\u001b[49m\u001b[43m)\u001b[49m\n\u001b[0;32m     89\u001b[0m \u001b[38;5;28;01melse\u001b[39;00m:\n\u001b[0;32m     90\u001b[0m     \u001b[38;5;28mprint\u001b[39m(\u001b[38;5;124m'\u001b[39m\u001b[38;5;124mSee the list carefully.\u001b[39m\u001b[38;5;124m'\u001b[39m)\n",
      "Input \u001b[1;32mIn [41]\u001b[0m, in \u001b[0;36mconfirmation_message\u001b[1;34m(location_in)\u001b[0m\n\u001b[0;32m    107\u001b[0m         \u001b[38;5;28mprint\u001b[39m(user_input)\n\u001b[0;32m    108\u001b[0m         confirmation_message(location_in)\n\u001b[1;32m--> 109\u001b[0m         \u001b[43mremove_order\u001b[49m\u001b[43m(\u001b[49m\u001b[38;5;28;43mint\u001b[39;49m\u001b[43m(\u001b[49m\u001b[43muser_input\u001b[49m\u001b[43m)\u001b[49m\u001b[43m)\u001b[49m\n\u001b[0;32m    110\u001b[0m \u001b[38;5;66;03m#         view_cart(confirmed)\u001b[39;00m\n\u001b[0;32m    111\u001b[0m     \u001b[38;5;28;01melse\u001b[39;00m:\n\u001b[0;32m    112\u001b[0m         confirmation_message(location_in)\n",
      "Input \u001b[1;32mIn [41]\u001b[0m, in \u001b[0;36mremove_order\u001b[1;34m(oid)\u001b[0m\n\u001b[0;32m    115\u001b[0m index \u001b[38;5;241m=\u001b[39m oid\u001b[38;5;241m-\u001b[39m\u001b[38;5;241m1\u001b[39m\n\u001b[0;32m    116\u001b[0m \u001b[38;5;28mprint\u001b[39m(\u001b[38;5;124m'\u001b[39m\u001b[38;5;124msuccesa\u001b[39m\u001b[38;5;124m'\u001b[39m, index)\n\u001b[1;32m--> 117\u001b[0m name \u001b[38;5;241m=\u001b[39m \u001b[43mnew_list\u001b[49m\u001b[43m[\u001b[49m\u001b[38;5;124;43m'\u001b[39;49m\u001b[38;5;124;43mName\u001b[39;49m\u001b[38;5;124;43m'\u001b[39;49m\u001b[43m]\u001b[49m\u001b[43m[\u001b[49m\u001b[43mindex\u001b[49m\u001b[43m]\u001b[49m\n\u001b[0;32m    118\u001b[0m price \u001b[38;5;241m=\u001b[39m new_list[\u001b[38;5;124m'\u001b[39m\u001b[38;5;124mPrice\u001b[39m\u001b[38;5;124m'\u001b[39m][index]\n\u001b[0;32m    120\u001b[0m new_list[\u001b[38;5;124m\"\u001b[39m\u001b[38;5;124mName\u001b[39m\u001b[38;5;124m\"\u001b[39m]\u001b[38;5;241m.\u001b[39mremove(name)\n",
      "\u001b[1;31mIndexError\u001b[0m: list index out of range"
     ]
    }
   ],
   "source": [
    "from datetime import datetime\n",
    "\n",
    "cust_phone = ''\n",
    "cust_address = ''\n",
    "selected_location = ''\n",
    "location_list = ['dhaka','rajshahi','khulna']\n",
    "food_types = ['curry', 'rice'] \n",
    "food_list = [[{'name':'beef bhuna','price':'160'},{'name':'duck bhuna','price':'135'}],[{'name':'plain rice','price':'25'},{'name':'plain polao', 'price':'65'}]]\n",
    "order_list = {\"Name\":[],\"Price\":[]};\n",
    "def foodChat():\n",
    "    print('Welcome to FoodChat.\\nSelect your location.')\n",
    "    select_location()\n",
    "    \n",
    "def select_location():\n",
    "    x = 0\n",
    "    for location in location_list:\n",
    "        x = x+1\n",
    "        print(x ,'.' ,location.upper(), sep=\"\")\n",
    "\n",
    "    location_in = input('').lower().strip()\n",
    "   \n",
    "    if location_in in location_list: \n",
    "        print('You selected your location',location_in.upper())\n",
    "        select_food(location_in)\n",
    "    else:\n",
    "        print('Please select from the given list.')\n",
    "        select_location()\n",
    "    \n",
    "def select_food(location_in):\n",
    "    x = 0\n",
    "    for food_type in food_types:\n",
    "        x = x+1\n",
    "        print(x ,'.' ,food_type.upper(), sep=\"\")\n",
    "    print('Please input the food type.')\n",
    "    if(len(order_list['Name'])>0):\n",
    "        print(\"To view cart,type '0'\")\n",
    "        print(\"----------------------------------------------------\")\n",
    "    food_type = input().lower().strip()\n",
    "    if food_type in food_types:\n",
    "        x = 0\n",
    "        food_index = food_types.index(food_type)\n",
    "        for food in food_list[food_index]:\n",
    "            x = x+1\n",
    "            print(x ,'.' ,food['name'].upper(),' - ',food['price'],'Tk', sep=\"\")\n",
    "        \n",
    "        add_order(food_index,location_in)\n",
    "    elif food_type == '0' and len(order_list['Name'])>0:\n",
    "        \n",
    "        view_cart(confirmed)\n",
    "        confirmation_message(location_in)\n",
    "    else:\n",
    "        print('Please select from the given list.')\n",
    "        select_food(location_in)\n",
    "    \n",
    "        \n",
    "        \n",
    "def add_order(food_index,location_in):\n",
    "        print(\"----------------------------------------------------\")\n",
    "        print(\"Just input the serial number to add the food to cart\")\n",
    "        print(\"----------------------------------------------------\")\n",
    "        print(\"Goto Main menu,type '#'\")\n",
    "        print(\"----------------------------------------------------\")\n",
    "        if(len(order_list['Name'])>0):\n",
    "            print(\"To view cart,type '0'\")\n",
    "            print(\"----------------------------------------------------\")\n",
    "        user_input = input().strip()\n",
    "        flag = False\n",
    "        if user_input == '#':\n",
    "            select_food(location_in)\n",
    "        elif user_input=='':\n",
    "            print('Empty input not acceptable.')\n",
    "            add_order(food_index,location_in)\n",
    "        elif (int(user_input) <= len(food_list[food_index])) and (int(user_input) > 0):\n",
    "            index = int(user_input)-1\n",
    "            name = food_list[food_index][index]['name']\n",
    "            price = food_list[food_index][index]['price']\n",
    "            order_list[\"Name\"].append(name)\n",
    "            order_list[\"Price\"].append(price)\n",
    "            print(name.upper(),'Item Added Successfully')\n",
    "            add_order(food_index,location_in)\n",
    "        elif int(user_input)==0:\n",
    "            confirmed = False\n",
    "            view_cart(confirmed)\n",
    "            print(\"----------------------------------------------------\")\n",
    "            print(\"Goto Main menu,type '#'\")\n",
    "            print(\"----------------------------------------------------\")\n",
    "            confirmation_message(location_in)\n",
    "        \n",
    "        else:\n",
    "            print('See the list carefully.')\n",
    "            add_order(food_index,location_in)\n",
    "\n",
    "def confirmation_message(location_in):\n",
    "    print(\"For Confirm type 'Yes'\")\n",
    "    print(\"----------------------------------------------------\")\n",
    "\n",
    "    user_input = input().lower().strip()\n",
    "\n",
    "    if user_input == '#':\n",
    "        select_food(location_in)\n",
    "    elif user_input=='':\n",
    "        print('Empty input not acceptable.')\n",
    "        confirmation_message(location_in)\n",
    "    elif user_input == 'yes':\n",
    "        confirmation(location_in)\n",
    "    elif int(user_input) >= 0 and len(order_list['Name']) > int(user_input) :\n",
    "        print(user_input)\n",
    "        confirmation_message(location_in)\n",
    "        remove_order(int(user_input))\n",
    "#         view_cart(confirmed)\n",
    "    else:\n",
    "        confirmation_message(location_in)\n",
    "        \n",
    "def remove_order(oid):\n",
    "    index = oid-1\n",
    "    print('succesa', index)\n",
    "    name = new_list['Name'][index]\n",
    "    price = new_list['Price'][index]\n",
    "\n",
    "    new_list[\"Name\"].remove(name)\n",
    "    new_list[\"Price\"].remove(price)\n",
    "\n",
    "    \n",
    "def view_cart(confirmed):\n",
    "    x = 0\n",
    "    i = 0\n",
    "    total_price = 0\n",
    "    print('Item List:')\n",
    "    for i in range(len(order_list['Name'])):\n",
    "        x = x+1\n",
    "        nl = order_list['Name'][i]\n",
    "        new_price = int(order_list['Price'][i]) \n",
    "        total_price = total_price + new_price\n",
    "        print(x ,'.',nl.upper(), sep=\"\")\n",
    "        i = i+1\n",
    "    print('_______________')\n",
    "    print(\"Total Price:\", total_price)\n",
    "\n",
    "    \n",
    "        \n",
    "def confirmation(location_in):\n",
    "    phone = input(\"Give your Phone Number: \")\n",
    "    address = input(\"Give your Full Address: \")\n",
    "    \n",
    "    print(\"==========================\")\n",
    "    print(\"Order Confirmed\")\n",
    "    print(\"==========================\\n\\n\")\n",
    "    order_details(phone, address, location_in)\n",
    "\n",
    "\n",
    "def order_details(phone, address,location_in ):\n",
    "    confirmed = True\n",
    "    now = datetime.now()\n",
    "    dt_string = now.strftime(\"%d%m%Y%H%M%S\")\n",
    "    order_no = dt_string\n",
    "    print(\"==========================\")\n",
    "    print(\"Order Details\")\n",
    "    print(\"==========================\")\n",
    "    print(\"Order No:\", order_no)\n",
    "    print(\"Location:\", location_in)\n",
    "    print(\"Phone No:\", phone)\n",
    "    print(\"Full Address:\", address)\n",
    "    print(\"==========================\")\n",
    "    view_cart(confirmed)\n",
    "    print(\"==========================\")\n",
    "    print(\"Thank you for ordering us.\\nWe will contact with you soon.\" )\n",
    "\n",
    "\n",
    "\n",
    "foodChat()\n"
   ]
  },
  {
   "cell_type": "markdown",
   "id": "87b274a4",
   "metadata": {},
   "source": [
    "\n",
    "\n",
    "\n",
    "\n",
    "\n",
    "\n",
    "\n"
   ]
  },
  {
   "cell_type": "code",
   "execution_count": 29,
   "id": "46041577",
   "metadata": {},
   "outputs": [
    {
     "name": "stdout",
     "output_type": "stream",
     "text": [
      "Item List:\n",
      "1.BEEF BHUNA\n",
      "2.BANANA\n",
      "_______________\n",
      "Total Price: 220\n"
     ]
    },
    {
     "data": {
      "text/plain": [
       "2"
      ]
     },
     "execution_count": 29,
     "metadata": {},
     "output_type": "execute_result"
    }
   ],
   "source": [
    "new_list = {'Name': ['beef bhuna','banana'], 'Price': ['160','60']}\n",
    "x = 0\n",
    "total_price = 0\n",
    "# print(new_list)\n",
    "print('Item List:')\n",
    "for i in range(len(new_list['Name'])):\n",
    "    x = x+1\n",
    "    nl = new_list['Name'][i]\n",
    "    new_price = int(new_list['Price'][i]) \n",
    "    total_price = total_price + new_price\n",
    "    print(x ,'.',nl.upper(), sep=\"\")\n",
    "print('_______________')\n",
    "print(\"Total Price:\", total_price)   \n",
    "len(new_list['Name'])"
   ]
  },
  {
   "cell_type": "code",
   "execution_count": 44,
   "id": "ecb6e888",
   "metadata": {},
   "outputs": [
    {
     "data": {
      "text/plain": [
       "<function __main__.two(data='hello')>"
      ]
     },
     "execution_count": 44,
     "metadata": {},
     "output_type": "execute_result"
    }
   ],
   "source": [
    "def one(data):\n",
    "    return 'hello'\n",
    "def two(data = one('data')):\n",
    "    print(data)\n",
    "two"
   ]
  },
  {
   "cell_type": "code",
   "execution_count": 97,
   "id": "5d98286b",
   "metadata": {},
   "outputs": [
    {
     "data": {
      "text/plain": [
       "'je'"
      ]
     },
     "execution_count": 97,
     "metadata": {},
     "output_type": "execute_result"
    }
   ],
   "source": [
    "def a():\n",
    "    sl_location = sl_location = 'jello'\n",
    "    return sl_location \n",
    "\n",
    "a()[:2]"
   ]
  },
  {
   "cell_type": "code",
   "execution_count": 8,
   "id": "0eb14d6f",
   "metadata": {
    "scrolled": true
   },
   "outputs": [
    {
     "ename": "SyntaxError",
     "evalue": "invalid syntax (768686998.py, line 5)",
     "output_type": "error",
     "traceback": [
      "\u001b[1;36m  Input \u001b[1;32mIn [8]\u001b[1;36m\u001b[0m\n\u001b[1;33m    return phone = hello\u001b[0m\n\u001b[1;37m                 ^\u001b[0m\n\u001b[1;31mSyntaxError\u001b[0m\u001b[1;31m:\u001b[0m invalid syntax\n"
     ]
    }
   ],
   "source": []
  },
  {
   "cell_type": "code",
   "execution_count": 19,
   "id": "c0465f20",
   "metadata": {},
   "outputs": [
    {
     "name": "stdout",
     "output_type": "stream",
     "text": [
      "==========================\n",
      "Order Details\n",
      "==========================\n",
      "Order No: 789284729734\n",
      "Location: Dhaka\n",
      "Phone No: 0175213568\n",
      "Full Address: H11, vatara dhaka.\n",
      "==========================\n",
      "Thank you for ordering us.\n",
      "We will contact with you soon.\n"
     ]
    }
   ],
   "source": []
  },
  {
   "cell_type": "code",
   "execution_count": 32,
   "id": "0e2ca815",
   "metadata": {},
   "outputs": [
    {
     "data": {
      "text/plain": [
       "{'Name': ['banana'], 'Price': ['60']}"
      ]
     },
     "execution_count": 32,
     "metadata": {},
     "output_type": "execute_result"
    }
   ],
   "source": [
    "new_list = {'Name': ['beef bhuna','banana'], 'Price': ['160','60']}\n",
    "name = new_list['Name'][0]\n",
    "price = new_list['Price'][0]\n",
    "\n",
    "new_list[\"Name\"].remove(name)\n",
    "new_list[\"Price\"].remove(price)\n",
    "\n",
    "new_list"
   ]
  },
  {
   "cell_type": "code",
   "execution_count": 44,
   "id": "ebcb5deb",
   "metadata": {},
   "outputs": [
    {
     "name": "stdout",
     "output_type": "stream",
     "text": [
      "hello\n"
     ]
    },
    {
     "data": {
      "text/plain": [
       "0"
      ]
     },
     "execution_count": 44,
     "metadata": {},
     "output_type": "execute_result"
    }
   ],
   "source": [
    "import os\n",
    "\n",
    "print('hello')\n",
    "clear = lambda: os.system('cls')\n",
    "clear()\n",
    "\n"
   ]
  },
  {
   "cell_type": "code",
   "execution_count": null,
   "id": "5236a9a5",
   "metadata": {},
   "outputs": [],
   "source": []
  }
 ],
 "metadata": {
  "kernelspec": {
   "display_name": "Python 3 (ipykernel)",
   "language": "python",
   "name": "python3"
  },
  "language_info": {
   "codemirror_mode": {
    "name": "ipython",
    "version": 3
   },
   "file_extension": ".py",
   "mimetype": "text/x-python",
   "name": "python",
   "nbconvert_exporter": "python",
   "pygments_lexer": "ipython3",
   "version": "3.9.12"
  }
 },
 "nbformat": 4,
 "nbformat_minor": 5
}
