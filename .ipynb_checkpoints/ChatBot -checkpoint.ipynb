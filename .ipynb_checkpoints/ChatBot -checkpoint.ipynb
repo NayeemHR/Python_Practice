{
 "cells": [
  {
   "cell_type": "code",
   "execution_count": null,
   "id": "c4d1d588",
   "metadata": {},
   "outputs": [
    {
     "name": "stdout",
     "output_type": "stream",
     "text": [
      "Welcome to FoodFan.\n",
      "Need to login.\n",
      " Do you have an account? Yes/No\n",
      "yes\n",
      "Please Login.\n",
      "Usernamenayeem\n"
     ]
    }
   ],
   "source": [
    "print('Welcome to FoodFan.')\n",
    "login_check = False\n",
    "if login_check == True:\n",
    "    print('Thank you for login.')\n",
    "else:\n",
    "    print('Need to login.\\n Do you have an account? Yes/No')\n",
    "    have_account = input()\n",
    "    if have_account == 'yes':\n",
    "        print('Please Login.')\n",
    "        username = input('Username: ')\n",
    "        password = input('Password: ')\n",
    "    elif have_account == 'no':\n",
    "        print('Please Create an Account.')\n",
    "        username = input('Give your username')\n",
    "\n",
    "    "
   ]
  },
  {
   "cell_type": "code",
   "execution_count": null,
   "id": "d2d0c60d",
   "metadata": {},
   "outputs": [],
   "source": []
  },
  {
   "cell_type": "code",
   "execution_count": null,
   "id": "098d7f3e",
   "metadata": {},
   "outputs": [],
   "source": []
  }
 ],
 "metadata": {
  "kernelspec": {
   "display_name": "Python 3 (ipykernel)",
   "language": "python",
   "name": "python3"
  },
  "language_info": {
   "codemirror_mode": {
    "name": "ipython",
    "version": 3
   },
   "file_extension": ".py",
   "mimetype": "text/x-python",
   "name": "python",
   "nbconvert_exporter": "python",
   "pygments_lexer": "ipython3",
   "version": "3.9.12"
  }
 },
 "nbformat": 4,
 "nbformat_minor": 5
}
