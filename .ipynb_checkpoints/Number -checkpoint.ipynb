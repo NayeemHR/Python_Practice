{
 "cells": [
  {
   "cell_type": "code",
   "execution_count": 36,
   "id": "de8ed462",
   "metadata": {},
   "outputs": [
    {
     "name": "stdout",
     "output_type": "stream",
     "text": [
      "Input an integer number: 13\n",
      "0\n",
      "It is an ugly number.\n",
      "\n"
     ]
    }
   ],
   "source": [
    "#01. check whether a given number is an ugly number or not.\n",
    "x=0\n",
    "num = int(input('Input an integer number: '))\n",
    "if num<=0:\n",
    "    print(\"Input a correct number.\")\n",
    "\n",
    "for i in [2, 3, 5]:\n",
    "    while num % i == 0:\n",
    "        num /= i \n",
    "        x = 1;  \n",
    "        break;\n",
    "if (x==0):\n",
    "    print(\"It is an ugly number.\\n\")\n",
    "else:\n",
    "    print(\"It is not an ugly number.\\n\")"
   ]
  },
  {
   "cell_type": "code",
   "execution_count": 39,
   "id": "513b7a7c",
   "metadata": {},
   "outputs": [
    {
     "name": "stdout",
     "output_type": "stream",
     "text": [
      "Input an integer number: 13\n",
      "13 is not Abundant Number\n"
     ]
    }
   ],
   "source": [
    "# 02.check whether a given number is Abundant or not\n",
    "n = int(input('Input an integer number: '))\n",
    "\n",
    "sum=1 # 1 can divide any number \n",
    "\n",
    "for i in range(2,n):\n",
    "    if(n%i==0):    #if number is divisible by i add the number \n",
    "        sum=sum+i\n",
    "\n",
    "if(sum>n):\n",
    "    print(n,'is Abundant Number')\n",
    "\n",
    "else:\n",
    "    print(n,'is not Abundant Number')"
   ]
  },
  {
   "cell_type": "code",
   "execution_count": 57,
   "id": "3718bf4c",
   "metadata": {},
   "outputs": [
    {
     "name": "stdout",
     "output_type": "stream",
     "text": [
      "[0, 12, 18, 20, 24, 30, 36, 40, 42, 48, 54, 56, 60, 66, 70, 72, 78, 80, 84, 88, 90, 96]\n"
     ]
    }
   ],
   "source": [
    "#3. find the Abundant numbers (integers) between 1 to 1000\n",
    "list = []\n",
    "for j in range(100):\n",
    "    n=j\n",
    "    sum=1 # 1 can divide any number \n",
    "\n",
    "    for i in range(2,n):\n",
    "        if(n%i==0):    #if number is divisible by i add the number \n",
    "            sum=sum+i\n",
    "\n",
    "    if(sum>n):\n",
    "        list.append(n)\n",
    "print(list)"
   ]
  },
  {
   "cell_type": "code",
   "execution_count": 56,
   "id": "38f51adc",
   "metadata": {},
   "outputs": [
    {
     "name": "stdout",
     "output_type": "stream",
     "text": [
      "Input an integer number: 15\n",
      "15 is Deficient Number\n"
     ]
    }
   ],
   "source": [
    "# 04. check whether a given number is Deficient or not\n",
    "n = int(input('Input an integer number: '))\n",
    "\n",
    "sum=1 # 1 can divide any number \n",
    "\n",
    "for i in range(2,n):\n",
    "    if(n%i==0):    #if number is divisible by i add the number \n",
    "        sum=sum+i\n",
    "\n",
    "if(sum>n):\n",
    "    print(n,'is not Deficient Number')\n",
    "\n",
    "else:\n",
    "    print(n,'is Deficient Number')"
   ]
  },
  {
   "cell_type": "code",
   "execution_count": 59,
   "id": "d3eb0496",
   "metadata": {},
   "outputs": [
    {
     "name": "stdout",
     "output_type": "stream",
     "text": [
      "[2, 3, 4, 5, 7, 8, 9, 10, 11, 13, 14, 15, 16, 17, 19, 21, 22, 23, 25, 26, 27, 29, 31, 32, 33, 34, 35, 37, 38, 39, 41, 43, 44, 45, 46, 47, 49, 50, 51, 52, 53, 55, 57, 58, 59, 61, 62, 63, 64, 65, 67, 68, 69, 71, 73, 74, 75, 76, 77, 79, 81, 82, 83, 85, 86, 87, 89, 91, 92, 93, 94, 95, 97, 98, 99]\n"
     ]
    }
   ],
   "source": [
    "# 05. find the Deficient numbers (integers) between 1 to 100\n",
    "list = []\n",
    "for j in range(100):\n",
    "    n=j\n",
    "    sum=1 # 1 can divide any number \n",
    "\n",
    "    for i in range(2,n):\n",
    "        if(n%i==0):    #if number is divisible by i add the number \n",
    "            sum=sum+i\n",
    "\n",
    "    if(sum<n):\n",
    "        list.append(n)\n",
    "print(list)"
   ]
  },
  {
   "cell_type": "code",
   "execution_count": 25,
   "id": "96d0f089",
   "metadata": {},
   "outputs": [
    {
     "name": "stdout",
     "output_type": "stream",
     "text": [
      "Input a number: 60\n",
      "60 is not a Kaprekar number.\n"
     ]
    }
   ],
   "source": [
    "# 06. check whether a given number is a Kaprekar number or not\n",
    "i=int(input('Input a number: '))\n",
    "\n",
    "sqr = i ** 2  \n",
    "digits = str(sqr)  \n",
    "result = 0\n",
    "length = len(digits)  \n",
    "for x in range(1, length):  \n",
    "    left = int(\"\".join(digits[:x]))  \n",
    "    right = int(\"\".join(digits[x:]))  \n",
    "    if (left + right) == i:  \n",
    "        result = 1\n",
    "\n",
    "if(result == 1):\n",
    "    print(\"%s is a Kaprekar number.\"%(str(i)));\n",
    "else:\n",
    "    print(\"%s is not a Kaprekar number.\"%(str(i)));\n"
   ]
  },
  {
   "cell_type": "code",
   "execution_count": 42,
   "id": "d60ee1c2",
   "metadata": {},
   "outputs": [
    {
     "name": "stdout",
     "output_type": "stream",
     "text": [
      "9  10  45  55  99  "
     ]
    }
   ],
   "source": [
    "# 07. generate and show all Kaprekar numbers less than 100\n",
    "start = 1\n",
    "end = 100\n",
    "for i in range(start, end ):  \n",
    "    sqr = i ** 2  \n",
    "    digits = str(sqr)  \n",
    "\n",
    "    length = len(digits)  \n",
    "    for x in range(1, length):  \n",
    "        left = int(\"\".join(digits[:x]))  \n",
    "        right = int(\"\".join(digits[x:]))  \n",
    "        if (left + right) == i:  \n",
    "            print(\"%s \"%(str(i)), end = \" \");  \n",
    "      \n",
    "    "
   ]
  },
  {
   "cell_type": "code",
   "execution_count": 60,
   "id": "2d803973",
   "metadata": {},
   "outputs": [
    {
     "name": "stdout",
     "output_type": "stream",
     "text": [
      "Input a number: 196\n",
      "196  is a lychrel number \n"
     ]
    }
   ],
   "source": [
    "# 08. Check whether a number is Lychrel number or not.\n",
    "\n",
    "# Max Iterations\n",
    "number =int(input('Input a number: '))\n",
    "MAX_ITERATIONS = 20;\n",
    "\n",
    "\n",
    "def isLychrel(number):\n",
    "\n",
    "    for i in range(MAX_ITERATIONS):\n",
    "        number = number + reverse(number);\n",
    "\n",
    "        if (isPalindrome(number)):\n",
    "            return \"false\";\n",
    "\n",
    "    return \"true\";\n",
    "\n",
    "# Function to check whether the number\n",
    "# is Palindrome\n",
    "def isPalindrome(number):\n",
    "\n",
    "    return number == reverse(number);\n",
    "\n",
    "# Function to reverse the number\n",
    "def reverse(number):\n",
    "\n",
    "    reverse = 0;\n",
    "    while (number > 0):\n",
    "\n",
    "        remainder = number % 10;\n",
    "        reverse = (reverse * 10) + remainder;\n",
    "        number = int(number / 10);\n",
    "\n",
    "    return reverse;\n",
    "\n",
    "\n",
    "if(isLychrel(number) == \"true\"):\n",
    "    print(number,\" is a lychrel number \");\n",
    "else:\n",
    "    print(number,\" is a not lychrel number \");\n",
    "\n"
   ]
  },
  {
   "cell_type": "code",
   "execution_count": 68,
   "id": "2d990cd5",
   "metadata": {},
   "outputs": [
    {
     "ename": "UnboundLocalError",
     "evalue": "local variable 'irri' referenced before assignment",
     "output_type": "error",
     "traceback": [
      "\u001b[1;31m---------------------------------------------------------------------------\u001b[0m",
      "\u001b[1;31mUnboundLocalError\u001b[0m                         Traceback (most recent call last)",
      "Input \u001b[1;32mIn [68]\u001b[0m, in \u001b[0;36m<cell line: 39>\u001b[1;34m()\u001b[0m\n\u001b[0;32m     37\u001b[0m \u001b[38;5;66;03m# Driver Code\u001b[39;00m\n\u001b[0;32m     39\u001b[0m \u001b[38;5;28;01mfor\u001b[39;00m x \u001b[38;5;129;01min\u001b[39;00m \u001b[38;5;28mrange\u001b[39m(\u001b[38;5;241m100\u001b[39m, \u001b[38;5;241m1000\u001b[39m):\n\u001b[1;32m---> 40\u001b[0m     \u001b[38;5;28;01mif\u001b[39;00m(\u001b[43misLychrel\u001b[49m\u001b[43m(\u001b[49m\u001b[43mx\u001b[49m\u001b[43m)\u001b[49m \u001b[38;5;241m==\u001b[39m \u001b[38;5;124m\"\u001b[39m\u001b[38;5;124mtrue\u001b[39m\u001b[38;5;124m\"\u001b[39m):\n\u001b[0;32m     41\u001b[0m         \u001b[38;5;28mprint\u001b[39m(x,\u001b[38;5;124m\"\u001b[39m\u001b[38;5;124m is a lychrel number \u001b[39m\u001b[38;5;124m\"\u001b[39m)\n",
      "Input \u001b[1;32mIn [68]\u001b[0m, in \u001b[0;36misLychrel\u001b[1;34m(number)\u001b[0m\n\u001b[0;32m     11\u001b[0m \u001b[38;5;28;01mfor\u001b[39;00m i \u001b[38;5;129;01min\u001b[39;00m \u001b[38;5;28mrange\u001b[39m(MAX_ITERATIONS):\n\u001b[0;32m     12\u001b[0m     number \u001b[38;5;241m=\u001b[39m number \u001b[38;5;241m+\u001b[39m reverse(number);\n\u001b[1;32m---> 13\u001b[0m     irri \u001b[38;5;241m+\u001b[39m\u001b[38;5;241m=\u001b[39m \u001b[38;5;241m1\u001b[39m \n\u001b[0;32m     14\u001b[0m     \u001b[38;5;28;01mif\u001b[39;00m (isPalindrome(number)):\n\u001b[0;32m     15\u001b[0m         \u001b[38;5;28;01mreturn\u001b[39;00m \u001b[38;5;124m\"\u001b[39m\u001b[38;5;124mfalse\u001b[39m\u001b[38;5;124m\"\u001b[39m;\n",
      "\u001b[1;31mUnboundLocalError\u001b[0m: local variable 'irri' referenced before assignment"
     ]
    }
   ],
   "source": [
    "# 09. Check whether a number is Lychrel number or not.\n",
    "\n",
    "# Max Iterations\n",
    "number = 0\n",
    "MAX_ITERATIONS = 20;\n",
    "irri = 0\n",
    "list = []\n",
    "\n",
    "def isLychrel(number):\n",
    "\n",
    "    for i in range(MAX_ITERATIONS):\n",
    "        number = number + reverse(number);\n",
    "        irri=irri+1\n",
    "        if (isPalindrome(number)):\n",
    "            return \"false\";\n",
    "\n",
    "    return \"true\";\n",
    "\n",
    "# Function to check whether the number\n",
    "# is Palindrome\n",
    "def isPalindrome(number):\n",
    "\n",
    "    return number == reverse(number);\n",
    "\n",
    "# Function to reverse the number\n",
    "def reverse(number):\n",
    "\n",
    "    reverse = 0;\n",
    "    while (number > 0):\n",
    "\n",
    "        remainder = number % 10;\n",
    "        reverse = (reverse * 10) + remainder;\n",
    "        number = int(number / 10);\n",
    "\n",
    "    return reverse;\n",
    "\n",
    "# Driver Code\n",
    "\n",
    "for x in range(100, 1000):\n",
    "    if(isLychrel(x) == \"true\"):\n",
    "        print(x,\" is a lychrel number \");\n"
   ]
  },
  {
   "cell_type": "code",
   "execution_count": 32,
   "id": "17ad3808",
   "metadata": {},
   "outputs": [
    {
     "name": "stdout",
     "output_type": "stream",
     "text": [
      "(1, 1049, '1049 is not a lychrel number')\n"
     ]
    }
   ],
   "source": []
  },
  {
   "cell_type": "code",
   "execution_count": null,
   "id": "88d602a5",
   "metadata": {},
   "outputs": [],
   "source": []
  }
 ],
 "metadata": {
  "kernelspec": {
   "display_name": "Python 3 (ipykernel)",
   "language": "python",
   "name": "python3"
  },
  "language_info": {
   "codemirror_mode": {
    "name": "ipython",
    "version": 3
   },
   "file_extension": ".py",
   "mimetype": "text/x-python",
   "name": "python",
   "nbconvert_exporter": "python",
   "pygments_lexer": "ipython3",
   "version": "3.9.12"
  }
 },
 "nbformat": 4,
 "nbformat_minor": 5
}
