{
 "cells": [
  {
   "cell_type": "code",
   "execution_count": 15,
   "id": "a12d66de",
   "metadata": {},
   "outputs": [
    {
     "name": "stdout",
     "output_type": "stream",
     "text": [
      "Welcome to FoodChat.\n",
      "Select your location.\n",
      "1.DHAKA\n",
      "2.RAJSHAHI\n",
      "3.KHULNA\n",
      "dhaka\n",
      "You selected your location DHAKA\n",
      "1.CURRY\n",
      "2.RICE\n",
      "Please input the food type.\n",
      "Curry\n",
      "food\n"
     ]
    },
    {
     "ename": "AttributeError",
     "evalue": "'list' object has no attribute 'upper'",
     "output_type": "error",
     "traceback": [
      "\u001b[1;31m---------------------------------------------------------------------------\u001b[0m",
      "\u001b[1;31mAttributeError\u001b[0m                            Traceback (most recent call last)",
      "Input \u001b[1;32mIn [15]\u001b[0m, in \u001b[0;36m<cell line: 37>\u001b[1;34m()\u001b[0m\n\u001b[0;32m     34\u001b[0m food_types \u001b[38;5;241m=\u001b[39m [\u001b[38;5;124m'\u001b[39m\u001b[38;5;124mcurry\u001b[39m\u001b[38;5;124m'\u001b[39m, \u001b[38;5;124m'\u001b[39m\u001b[38;5;124mRice\u001b[39m\u001b[38;5;124m'\u001b[39m] \n\u001b[0;32m     35\u001b[0m food_list \u001b[38;5;241m=\u001b[39m [[{\u001b[38;5;124m'\u001b[39m\u001b[38;5;124mBeef Bhuna\u001b[39m\u001b[38;5;124m'\u001b[39m:\u001b[38;5;124m'\u001b[39m\u001b[38;5;124m160\u001b[39m\u001b[38;5;124m'\u001b[39m},{\u001b[38;5;124m'\u001b[39m\u001b[38;5;124mDuck Bhuna\u001b[39m\u001b[38;5;124m'\u001b[39m:\u001b[38;5;124m'\u001b[39m\u001b[38;5;124m135\u001b[39m\u001b[38;5;124m'\u001b[39m}],[{\u001b[38;5;124m'\u001b[39m\u001b[38;5;124mPlain Rice\u001b[39m\u001b[38;5;124m'\u001b[39m:\u001b[38;5;124m'\u001b[39m\u001b[38;5;124m25\u001b[39m\u001b[38;5;124m'\u001b[39m},{\u001b[38;5;124m'\u001b[39m\u001b[38;5;124mPlain Polao\u001b[39m\u001b[38;5;124m'\u001b[39m:\u001b[38;5;124m'\u001b[39m\u001b[38;5;124m65\u001b[39m\u001b[38;5;124m'\u001b[39m}]]\n\u001b[1;32m---> 37\u001b[0m \u001b[43mselect_location\u001b[49m\u001b[43m(\u001b[49m\u001b[43m)\u001b[49m\n",
      "Input \u001b[1;32mIn [15]\u001b[0m, in \u001b[0;36mselect_location\u001b[1;34m()\u001b[0m\n\u001b[0;32m      8\u001b[0m \u001b[38;5;28;01mif\u001b[39;00m location_in \u001b[38;5;129;01min\u001b[39;00m location_list:\n\u001b[0;32m      9\u001b[0m     \u001b[38;5;28mprint\u001b[39m(\u001b[38;5;124m'\u001b[39m\u001b[38;5;124mYou selected your location\u001b[39m\u001b[38;5;124m'\u001b[39m,location_in\u001b[38;5;241m.\u001b[39mupper())\n\u001b[1;32m---> 10\u001b[0m     \u001b[43mselect_food\u001b[49m\u001b[43m(\u001b[49m\u001b[43m)\u001b[49m\n\u001b[0;32m     11\u001b[0m \u001b[38;5;28;01melse\u001b[39;00m:\n\u001b[0;32m     12\u001b[0m     \u001b[38;5;28mprint\u001b[39m(\u001b[38;5;124m'\u001b[39m\u001b[38;5;124mPlease select from the given list.\u001b[39m\u001b[38;5;124m'\u001b[39m)\n",
      "Input \u001b[1;32mIn [15]\u001b[0m, in \u001b[0;36mselect_food\u001b[1;34m()\u001b[0m\n\u001b[0;32m     25\u001b[0m     \u001b[38;5;28;01mfor\u001b[39;00m food \u001b[38;5;129;01min\u001b[39;00m food_list:\n\u001b[0;32m     26\u001b[0m         x \u001b[38;5;241m=\u001b[39m x\u001b[38;5;241m+\u001b[39m\u001b[38;5;241m1\u001b[39m\n\u001b[1;32m---> 27\u001b[0m         \u001b[38;5;28mprint\u001b[39m(x ,\u001b[38;5;124m'\u001b[39m\u001b[38;5;124m.\u001b[39m\u001b[38;5;124m'\u001b[39m ,\u001b[43mfood\u001b[49m\u001b[38;5;241;43m.\u001b[39;49m\u001b[43mupper\u001b[49m(), sep\u001b[38;5;241m=\u001b[39m\u001b[38;5;124m\"\u001b[39m\u001b[38;5;124m\"\u001b[39m)\n\u001b[0;32m     28\u001b[0m \u001b[38;5;28;01melse\u001b[39;00m:\n\u001b[0;32m     29\u001b[0m     \u001b[38;5;28mprint\u001b[39m(\u001b[38;5;124m'\u001b[39m\u001b[38;5;124mnotyhin\u001b[39m\u001b[38;5;124m'\u001b[39m)\n",
      "\u001b[1;31mAttributeError\u001b[0m: 'list' object has no attribute 'upper'"
     ]
    }
   ],
   "source": [
    "def select_location():\n",
    "    x = 0\n",
    "    for location in location_list:\n",
    "        x = x+1\n",
    "        print(x ,'.' ,location.upper(), sep=\"\")\n",
    "        \n",
    "    location_in = input('').lower()\n",
    "    if location_in in location_list:\n",
    "        print('You selected your location',location_in.upper())\n",
    "        select_food()\n",
    "    else:\n",
    "        print('Please select from the given list.')\n",
    "        select_location()\n",
    "        \n",
    "def select_food():\n",
    "    x = 0\n",
    "    for food_type in food_types:\n",
    "        x = x+1\n",
    "        print(x ,'.' ,food_type.upper(), sep=\"\")\n",
    "    print('Please input the food type.')\n",
    "    food_type_in = input().lower()\n",
    "    if food_type_in in food_types:\n",
    "        print('food')\n",
    "        x = 0\n",
    "        for food in food_list:\n",
    "            x = x+1\n",
    "            print(x ,'.' ,food.upper(), sep=\"\")\n",
    "    else:\n",
    "        print('notyhin')\n",
    "\n",
    "print('Welcome to FoodChat.\\nSelect your location.')\n",
    "\n",
    "location_list = ['dhaka','rajshahi','khulna']\n",
    "food_types = ['Curry', 'Rice'] \n",
    "food_list = [[{'Beef Bhuna':'160'},{'Duck Bhuna':'135'}],[{'Plain Rice':'25'},{'Plain Polao':'65'}]]\n",
    "\n",
    "select_location()"
   ]
  },
  {
   "cell_type": "code",
   "execution_count": null,
   "id": "1861f2a6",
   "metadata": {},
   "outputs": [],
   "source": []
  }
 ],
 "metadata": {
  "kernelspec": {
   "display_name": "Python 3 (ipykernel)",
   "language": "python",
   "name": "python3"
  },
  "language_info": {
   "codemirror_mode": {
    "name": "ipython",
    "version": 3
   },
   "file_extension": ".py",
   "mimetype": "text/x-python",
   "name": "python",
   "nbconvert_exporter": "python",
   "pygments_lexer": "ipython3",
   "version": "3.9.12"
  }
 },
 "nbformat": 4,
 "nbformat_minor": 5
}
