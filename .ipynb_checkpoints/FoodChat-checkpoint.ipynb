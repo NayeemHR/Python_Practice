{
 "cells": [
  {
   "cell_type": "code",
   "execution_count": 40,
   "id": "46ba43bc",
   "metadata": {},
   "outputs": [
    {
     "name": "stdout",
     "output_type": "stream",
     "text": [
      "Welcome to FoodChat.\n",
      "Select your location.\n",
      "1.DHAKA\n",
      "2.RAJSHAHI\n",
      "3.KHULNA\n",
      "dhaka\n",
      "You selected your location DHAKA\n"
     ]
    },
    {
     "ename": "UnboundLocalError",
     "evalue": "local variable 'food_types' referenced before assignment",
     "output_type": "error",
     "traceback": [
      "\u001b[1;31m---------------------------------------------------------------------------\u001b[0m",
      "\u001b[1;31mUnboundLocalError\u001b[0m                         Traceback (most recent call last)",
      "Input \u001b[1;32mIn [40]\u001b[0m, in \u001b[0;36m<cell line: 29>\u001b[1;34m()\u001b[0m\n\u001b[0;32m     26\u001b[0m food_types \u001b[38;5;241m=\u001b[39m [\u001b[38;5;124m'\u001b[39m\u001b[38;5;124mCurry\u001b[39m\u001b[38;5;124m'\u001b[39m, \u001b[38;5;124m'\u001b[39m\u001b[38;5;124mRice\u001b[39m\u001b[38;5;124m'\u001b[39m] \n\u001b[0;32m     27\u001b[0m food_list \u001b[38;5;241m=\u001b[39m [[{\u001b[38;5;124m'\u001b[39m\u001b[38;5;124mBeef Bhuna\u001b[39m\u001b[38;5;124m'\u001b[39m:\u001b[38;5;124m'\u001b[39m\u001b[38;5;124m160\u001b[39m\u001b[38;5;124m'\u001b[39m},{\u001b[38;5;124m'\u001b[39m\u001b[38;5;124mDuck Bhuna\u001b[39m\u001b[38;5;124m'\u001b[39m:\u001b[38;5;124m'\u001b[39m\u001b[38;5;124m135\u001b[39m\u001b[38;5;124m'\u001b[39m}],[{\u001b[38;5;124m'\u001b[39m\u001b[38;5;124mPlain Rice\u001b[39m\u001b[38;5;124m'\u001b[39m:\u001b[38;5;124m'\u001b[39m\u001b[38;5;124m25\u001b[39m\u001b[38;5;124m'\u001b[39m},{\u001b[38;5;124m'\u001b[39m\u001b[38;5;124mPlain Polao\u001b[39m\u001b[38;5;124m'\u001b[39m:\u001b[38;5;124m'\u001b[39m\u001b[38;5;124m65\u001b[39m\u001b[38;5;124m'\u001b[39m}]]\n\u001b[1;32m---> 29\u001b[0m \u001b[43mselect_location\u001b[49m\u001b[43m(\u001b[49m\u001b[43m)\u001b[49m\n",
      "Input \u001b[1;32mIn [40]\u001b[0m, in \u001b[0;36mselect_location\u001b[1;34m()\u001b[0m\n\u001b[0;32m      8\u001b[0m \u001b[38;5;28;01mif\u001b[39;00m location \u001b[38;5;129;01min\u001b[39;00m location_list:\n\u001b[0;32m      9\u001b[0m     \u001b[38;5;28mprint\u001b[39m(\u001b[38;5;124m'\u001b[39m\u001b[38;5;124mYou selected your location\u001b[39m\u001b[38;5;124m'\u001b[39m,location\u001b[38;5;241m.\u001b[39mupper())\n\u001b[1;32m---> 10\u001b[0m     \u001b[43mselect_food\u001b[49m\u001b[43m(\u001b[49m\u001b[43m)\u001b[49m\n\u001b[0;32m     11\u001b[0m \u001b[38;5;28;01melse\u001b[39;00m:\n\u001b[0;32m     12\u001b[0m     \u001b[38;5;28mprint\u001b[39m(\u001b[38;5;124m'\u001b[39m\u001b[38;5;124mPlease select from the given list.\u001b[39m\u001b[38;5;124m'\u001b[39m)\n",
      "Input \u001b[1;32mIn [40]\u001b[0m, in \u001b[0;36mselect_food\u001b[1;34m()\u001b[0m\n\u001b[0;32m     15\u001b[0m \u001b[38;5;28;01mdef\u001b[39;00m \u001b[38;5;21mselect_food\u001b[39m():\n\u001b[0;32m     16\u001b[0m     x \u001b[38;5;241m=\u001b[39m \u001b[38;5;241m0\u001b[39m\n\u001b[1;32m---> 17\u001b[0m     \u001b[38;5;28;01mfor\u001b[39;00m f \u001b[38;5;129;01min\u001b[39;00m \u001b[43mfood_types\u001b[49m:\n\u001b[0;32m     18\u001b[0m         x \u001b[38;5;241m=\u001b[39m x\u001b[38;5;241m+\u001b[39m\u001b[38;5;241m1\u001b[39m\n\u001b[0;32m     19\u001b[0m         \u001b[38;5;28mprint\u001b[39m(x ,\u001b[38;5;124m'\u001b[39m\u001b[38;5;124m.\u001b[39m\u001b[38;5;124m'\u001b[39m ,f\u001b[38;5;241m.\u001b[39mupper(), sep\u001b[38;5;241m=\u001b[39m\u001b[38;5;124m\"\u001b[39m\u001b[38;5;124m\"\u001b[39m)\n",
      "\u001b[1;31mUnboundLocalError\u001b[0m: local variable 'food_types' referenced before assignment"
     ]
    }
   ],
   "source": [
    "def select_location():\n",
    "    x = 0\n",
    "    for location in location_list:\n",
    "        x = x+1\n",
    "        print(x ,'.' ,location.upper(), sep=\"\")\n",
    "        \n",
    "    location = input('')\n",
    "    if location in location_list:\n",
    "        print('You selected your location',location.upper())\n",
    "        select_food()\n",
    "    else:\n",
    "        print('Please select from the given list.')\n",
    "        select_location()\n",
    "        \n",
    "def select_food():\n",
    "    x = 0\n",
    "    for food_type in food_types:\n",
    "        x = x+1\n",
    "        print(x ,'.' ,food_type.upper(), sep=\"\")\n",
    "    \n",
    "    food_type = input()\n",
    "\n",
    "print('Welcome to FoodChat.\\nSelect your location.')\n",
    "\n",
    "location_list = ['dhaka','rajshahi','khulna']\n",
    "food_types = ['Curry', 'Rice'] \n",
    "food_list = [[{'Beef Bhuna':'160'},{'Duck Bhuna':'135'}],[{'Plain Rice':'25'},{'Plain Polao':'65'}]]\n",
    "\n",
    "select_location()"
   ]
  },
  {
   "cell_type": "code",
   "execution_count": null,
   "id": "7b81e3c4",
   "metadata": {},
   "outputs": [],
   "source": []
  }
 ],
 "metadata": {
  "kernelspec": {
   "display_name": "Python 3 (ipykernel)",
   "language": "python",
   "name": "python3"
  },
  "language_info": {
   "codemirror_mode": {
    "name": "ipython",
    "version": 3
   },
   "file_extension": ".py",
   "mimetype": "text/x-python",
   "name": "python",
   "nbconvert_exporter": "python",
   "pygments_lexer": "ipython3",
   "version": "3.9.12"
  }
 },
 "nbformat": 4,
 "nbformat_minor": 5
}
