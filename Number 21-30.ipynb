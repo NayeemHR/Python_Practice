{
 "cells": [
  {
   "cell_type": "code",
   "execution_count": 1,
   "id": "e2383c8d",
   "metadata": {},
   "outputs": [
    {
     "name": "stdout",
     "output_type": "stream",
     "text": [
      "Enter a number you want to check: \n",
      "25\n",
      "Yes, 25 is an automorphic number\n"
     ]
    }
   ],
   "source": [
    "# 21.check if a number is Authomorphic or not.\n",
    "\n",
    "num = int(input(\"Enter a number you want to check: \\n\"))  \n",
    "  \n",
    "#calculating the number of digits  \n",
    "num_of_digits = len(str(num))  \n",
    "  \n",
    "#computing the square of a number  \n",
    "square = num**2  \n",
    "  \n",
    "#obtaining the last digits   \n",
    "last_digits = square%pow(10,num_of_digits)  \n",
    "  \n",
    "#comparing the digits of number with input  \n",
    "if last_digits == num:  \n",
    "  print(\"Yes, {} is an automorphic number\".format(num))  \n",
    "else:  \n",
    "  print(\"No, {} is not an automorphic number\".format(num))  "
   ]
  },
  {
   "cell_type": "code",
   "execution_count": 2,
   "id": "ed18f65d",
   "metadata": {},
   "outputs": [
    {
     "name": "stdout",
     "output_type": "stream",
     "text": [
      "Enter a number you want to check: \n",
      "26\n",
      "No, 26 is not an automorphic number\n"
     ]
    }
   ],
   "source": [
    "# 22. find the the Authomorphic numbers between 1 to 1000\n",
    "\n",
    "num = int(input(\"Enter a number you want to check: \\n\"))  \n",
    "  \n",
    "#calculating the number of digits  \n",
    "num_of_digits = len(str(num))  \n",
    "  \n",
    "#computing the square of a number  \n",
    "square = num**2  \n",
    "  \n",
    "#obtaining the last digits   \n",
    "last_digits = square%pow(10,num_of_digits)  \n",
    "  \n",
    "#comparing the digits of number with input  \n",
    "if last_digits == num:  \n",
    "  print(\"Yes, {} is an automorphic number\".format(num))  \n",
    "else:  \n",
    "  print(\"No, {} is not an automorphic number\".format(num))  \n"
   ]
  },
  {
   "cell_type": "code",
   "execution_count": null,
   "id": "1ab72105",
   "metadata": {},
   "outputs": [],
   "source": []
  }
 ],
 "metadata": {
  "kernelspec": {
   "display_name": "Python 3 (ipykernel)",
   "language": "python",
   "name": "python3"
  },
  "language_info": {
   "codemirror_mode": {
    "name": "ipython",
    "version": 3
   },
   "file_extension": ".py",
   "mimetype": "text/x-python",
   "name": "python",
   "nbconvert_exporter": "python",
   "pygments_lexer": "ipython3",
   "version": "3.9.12"
  }
 },
 "nbformat": 4,
 "nbformat_minor": 5
}
