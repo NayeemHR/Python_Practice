{
 "cells": [
  {
   "cell_type": "code",
   "execution_count": 2,
   "id": "f488ce46",
   "metadata": {},
   "outputs": [
    {
     "name": "stdout",
     "output_type": "stream",
     "text": [
      "MY NAME IS NAYEEM\n"
     ]
    }
   ],
   "source": [
    "# 21. convert a string to uppercase.\n",
    "string = 'My name is nayeem'\n",
    "print(string.upper())"
   ]
  },
  {
   "cell_type": "code",
   "execution_count": 3,
   "id": "47fcac25",
   "metadata": {},
   "outputs": [
    {
     "name": "stdout",
     "output_type": "stream",
     "text": [
      "my name is nayeem\n"
     ]
    }
   ],
   "source": [
    "# 22. convert a string to lowercase\n",
    "string = 'My name is nayeem'\n",
    "print(string.lower())"
   ]
  },
  {
   "cell_type": "code",
   "execution_count": 2,
   "id": "bfa1dd09",
   "metadata": {},
   "outputs": [
    {
     "name": "stdout",
     "output_type": "stream",
     "text": [
      "Yes\n"
     ]
    }
   ],
   "source": [
    "# 23. check whether a character is Hexadecimal Digit or not\n",
    "def checkHex(s):\n",
    "   \n",
    "    # Iterate over string\n",
    "    for ch in s:\n",
    " \n",
    "        # Check if the character\n",
    "        # is invalid\n",
    "        if ((ch < '0' or ch > '9') and\n",
    "            (ch < 'A' or ch > 'F')):\n",
    "                 \n",
    "            print(\"No\")\n",
    "            return\n",
    "         \n",
    "    # Print true if all\n",
    "    # characters are valid\n",
    "    print(\"Yes\")\n",
    " \n",
    "# Driver Code\n",
    "     \n",
    "# Given string\n",
    "s = \"BF57C\"\n",
    "  \n",
    "# Function call\n",
    "checkHex(s)"
   ]
  },
  {
   "cell_type": "code",
   "execution_count": 6,
   "id": "2b8917e0",
   "metadata": {},
   "outputs": [
    {
     "ename": "SyntaxError",
     "evalue": "invalid syntax (1711752911.py, line 6)",
     "output_type": "error",
     "traceback": [
      "\u001b[1;36m  Input \u001b[1;32mIn [6]\u001b[1;36m\u001b[0m\n\u001b[1;33m    print check_upper('U')\u001b[0m\n\u001b[1;37m          ^\u001b[0m\n\u001b[1;31mSyntaxError\u001b[0m\u001b[1;31m:\u001b[0m invalid syntax\n"
     ]
    }
   ],
   "source": []
  },
  {
   "cell_type": "code",
   "execution_count": 99,
   "id": "c82efae1",
   "metadata": {},
   "outputs": [
    {
     "name": "stdout",
     "output_type": "stream",
     "text": [
      "There is an UPPERCASE letter\n"
     ]
    }
   ],
   "source": [
    "#24.  check whether a letter is uppercase or not\n",
    "string=\"this is a test for UPPERCASE\"\n",
    "int_list = []\n",
    "for x in range(len(string)):\n",
    "    if(string[x].isupper()):\n",
    "        print(\"There is an UPPERCASE letter\");\n",
    "        break"
   ]
  },
  {
   "cell_type": "code",
   "execution_count": 114,
   "id": "75564f78",
   "metadata": {},
   "outputs": [
    {
     "name": "stdout",
     "output_type": "stream",
     "text": [
      "This_is_a_test_for\n"
     ]
    }
   ],
   "source": [
    "#25. replace the spaces of a string with a specific character\n",
    "string=\"This is a test for\"\n",
    "newstr=''\n",
    "for x in range(len(string)):\n",
    "    string=string.replace(\" \",\"_\")\n",
    "print(string)"
   ]
  },
  {
   "cell_type": "code",
   "execution_count": 59,
   "id": "c230e99d",
   "metadata": {},
   "outputs": [
    {
     "name": "stdout",
     "output_type": "stream",
     "text": [
      "Total Number of punctuation is: 2\n"
     ]
    }
   ],
   "source": [
    "#26. count the number of punctuation characters exists in a string\n",
    "string=\"This is, a test for.\"\n",
    "countp = 0\n",
    "for x in range( len(string)):\n",
    "    if string[x] in ('!', \",\" ,\"\\'\" ,\";\" ,\"\\\"\", \".\", \"-\" ,\"?\"):\n",
    "        countp += 1\n",
    "print(\"Total Number of punctuation is:\", countp)"
   ]
  },
  {
   "cell_type": "code",
   "execution_count": 87,
   "id": "16d2866d",
   "metadata": {},
   "outputs": [
    {
     "name": "stdout",
     "output_type": "stream",
     "text": [
      "This is \n"
     ]
    }
   ],
   "source": [
    "#27. print only the string before new line character\n",
    "string=\"This is \\n a test \\n for\"\n",
    "newstr=''\n",
    "for x in range(len(string)):\n",
    "    if string[x] == '\\n':\n",
    "        break\n",
    "        newstr=newstr+string[x]\n",
    "    else:\n",
    "        newstr=newstr+string[x]\n",
    "print(newstr)"
   ]
  },
  {
   "cell_type": "code",
   "execution_count": 100,
   "id": "3484f8c1",
   "metadata": {},
   "outputs": [
    {
     "name": "stdout",
     "output_type": "stream",
     "text": [
      "There is a Lowercase letter\n"
     ]
    }
   ],
   "source": [
    "# 28. check whether a letter is lowercase or not\n",
    "string=\"THIS IS A lowecase\"\n",
    "int_list = []\n",
    "for x in range(len(string)):\n",
    "    if(string[x].islower()):\n",
    "        print(\"There is a Lowercase letter\");\n",
    "        break"
   ]
  },
  {
   "cell_type": "code",
   "execution_count": 113,
   "id": "c604f7cc",
   "metadata": {},
   "outputs": [
    {
     "name": "stdout",
     "output_type": "stream",
     "text": [
      "Thisisatestfor\n"
     ]
    }
   ],
   "source": [
    "#29.  remove the spaces between two words of its content\n",
    "string=\"This is a test for\"\n",
    "newstr=''\n",
    "for x in range(len(string)):\n",
    "    string=string.replace(\" \",\"\")\n",
    "print(string)"
   ]
  },
  {
   "cell_type": "code",
   "execution_count": 120,
   "id": "d300a8f0",
   "metadata": {},
   "outputs": [
    {
     "name": "stdout",
     "output_type": "stream",
     "text": [
      "Input a character :a\n",
      "The entered character is not a digit.\n"
     ]
    }
   ],
   "source": [
    "#30. check whether a character is digit or not\n",
    "string = input('Input a character :')\n",
    "if string.isdigit():\n",
    "    print(\"The entered character is a digit.\")\n",
    "else:\n",
    "    print(\"The entered character is not a digit.\")\n"
   ]
  },
  {
   "cell_type": "code",
   "execution_count": 123,
   "id": "838af3cf",
   "metadata": {},
   "outputs": [
    {
     "name": "stdout",
     "output_type": "stream",
     "text": [
      "This\n",
      "is\n",
      "a\n",
      "test\n",
      "for\n"
     ]
    }
   ],
   "source": [
    "#31. split string by space into words\n",
    "string=\"This is a test for\"\n",
    "newstr=''\n",
    "for x in range(len(string)):\n",
    "    string=string.replace(\" \",\"\\n\")\n",
    "print(string)\n"
   ]
  },
  {
   "cell_type": "code",
   "execution_count": 127,
   "id": "0a25ccf4",
   "metadata": {},
   "outputs": [
    {
     "name": "stdout",
     "output_type": "stream",
     "text": [
      "r\n",
      "e\n",
      "t\n",
      "s\n",
      "i\n"
     ]
    }
   ],
   "source": [
    "#32. find the repeated character in a given string \n",
    "string = \"Great responsibility\";  \n",
    "    \n",
    "for i in range(0, len(string)):  \n",
    "    count = 1;  \n",
    "    for j in range(i+1, len(string)):  \n",
    "        if(string[i] == string[j] and string[i] != ' '):  \n",
    "            count = count + 1;  \n",
    "                #Set string[j] to 0 to avoid printing visited character  \n",
    "            string = string[:j] + '0' + string[j+1:];  \n",
    "       \n",
    "        #A character is considered as duplicate if count is greater than 1  \n",
    "    if(count > 1 and string[i] != '0'):  \n",
    "        print(string[i]);  "
   ]
  },
  {
   "cell_type": "code",
   "execution_count": 132,
   "id": "f268c9e7",
   "metadata": {},
   "outputs": [
    {
     "name": "stdout",
     "output_type": "stream",
     "text": [
      "Count of all characters in GeeksforGeeks is :\n",
      "  {'G': 2, 'e': 4, 'k': 2, 's': 2, 'f': 1, 'o': 1, 'r': 1}\n"
     ]
    }
   ],
   "source": [
    "#33. count of each character in a given string\n",
    "test_str = \"GeeksforGeeks\"\n",
    "  \n",
    "# using naive method to get count \n",
    "# of each element in string \n",
    "all_freq = {}\n",
    "  \n",
    "for i in test_str:\n",
    "    if i in all_freq:\n",
    "        all_freq[i] += 1\n",
    "    else:\n",
    "        all_freq[i] = 1\n",
    "  \n",
    "# printing result \n",
    "print (\"Count of all characters in GeeksforGeeks is :\\n \", all_freq)"
   ]
  },
  {
   "cell_type": "code",
   "execution_count": 133,
   "id": "f64f0c19",
   "metadata": {},
   "outputs": [
    {
     "ename": "NameError",
     "evalue": "name 'stirng' is not defined",
     "output_type": "error",
     "traceback": [
      "\u001b[1;31m---------------------------------------------------------------------------\u001b[0m",
      "\u001b[1;31mNameError\u001b[0m                                 Traceback (most recent call last)",
      "Input \u001b[1;32mIn [133]\u001b[0m, in \u001b[0;36m<cell line: 3>\u001b[1;34m()\u001b[0m\n\u001b[0;32m      3\u001b[0m \u001b[38;5;28;01mfor\u001b[39;00m x \u001b[38;5;129;01min\u001b[39;00m \u001b[38;5;28mrange\u001b[39m( \u001b[38;5;28mlen\u001b[39m(string)):\n\u001b[0;32m      4\u001b[0m     \u001b[38;5;28;01mif\u001b[39;00m string[x] \u001b[38;5;129;01min\u001b[39;00m (\u001b[38;5;124m'\u001b[39m\u001b[38;5;124ma\u001b[39m\u001b[38;5;124m'\u001b[39m, \u001b[38;5;124m'\u001b[39m\u001b[38;5;124me\u001b[39m\u001b[38;5;124m'\u001b[39m, \u001b[38;5;124m'\u001b[39m\u001b[38;5;124mi\u001b[39m\u001b[38;5;124m'\u001b[39m, \u001b[38;5;124m'\u001b[39m\u001b[38;5;124mo\u001b[39m\u001b[38;5;124m'\u001b[39m, \u001b[38;5;124m'\u001b[39m\u001b[38;5;124mu\u001b[39m\u001b[38;5;124m'\u001b[39m):\n\u001b[1;32m----> 5\u001b[0m         string\u001b[38;5;241m=\u001b[39mstring\u001b[38;5;241m.\u001b[39mreplace(\u001b[43mstirng\u001b[49m[x],string[x]\u001b[38;5;241m.\u001b[39mupper())\n\u001b[0;32m      6\u001b[0m \u001b[38;5;28mprint\u001b[39m(string)\n",
      "\u001b[1;31mNameError\u001b[0m: name 'stirng' is not defined"
     ]
    }
   ],
   "source": [
    "string=\"This is, a test for.\"\n",
    "countp = 0\n",
    "for x in range( len(string)):\n",
    "    if string[x] in ('a', 'e', 'i', 'o', 'u'):\n",
    "        string=string.replace(stirng[x],string[x].upper())\n",
    "print(string)"
   ]
  },
  {
   "cell_type": "code",
   "execution_count": null,
   "id": "6fec35f7",
   "metadata": {},
   "outputs": [],
   "source": []
  }
 ],
 "metadata": {
  "kernelspec": {
   "display_name": "Python 3 (ipykernel)",
   "language": "python",
   "name": "python3"
  },
  "language_info": {
   "codemirror_mode": {
    "name": "ipython",
    "version": 3
   },
   "file_extension": ".py",
   "mimetype": "text/x-python",
   "name": "python",
   "nbconvert_exporter": "python",
   "pygments_lexer": "ipython3",
   "version": "3.9.12"
  }
 },
 "nbformat": 4,
 "nbformat_minor": 5
}
